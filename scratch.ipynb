{
 "cells": [
  {
   "cell_type": "code",
   "execution_count": 1,
   "metadata": {},
   "outputs": [
    {
     "name": "stderr",
     "output_type": "stream",
     "text": [
      "/mnt/c/Users/anwan/Nextcloud/Khan/projects/gsm/git/gsm/io/registry.py:7: YAMLLoadWarning: calling yaml.load() without Loader=... is deprecated, as the default Loader is unsafe. Please read https://msg.pyyaml.org/load for full details.\n",
      "  info = yaml.load(open(path, 'r'))\n"
     ]
    }
   ],
   "source": [
    "import sys, os, time\n",
    "%load_ext autoreload\n",
    "%autoreload 2\n",
    "%matplotlib inline\n",
    "#%matplotlib tk\n",
    "import subprocess\n",
    "import select\n",
    "import numpy as np\n",
    "import json\n",
    "import yaml\n",
    "import matplotlib.pyplot as plt\n",
    "from collections import namedtuple, OrderedDict\n",
    "import random\n",
    "from string import Formatter\n",
    "from itertools import chain, product\n",
    "# import gsm\n",
    "import gsm\n",
    "from gsm import Savable\n",
    "from gsm import tdict, tlist, tset, tstack, tdeque\n",
    "from gsm import GameObject, GameLogger\n",
    "from gsm.mixins import Named\n",
    "from gsm import Array\n",
    "from gsm import viz\n",
    "from examples.tictactoe import TicTacToe\n",
    "from gsm.common.world import grid\n",
    "np.set_printoptions(linewidth=120)"
   ]
  },
  {
   "cell_type": "code",
   "execution_count": 2,
   "metadata": {},
   "outputs": [],
   "source": [
    "p = subprocess.Popen(['python', 'test_saving.py'], stdout=subprocess.PIPE, stderr=subprocess.STDOUT)"
   ]
  },
  {
   "cell_type": "code",
   "execution_count": null,
   "metadata": {},
   "outputs": [],
   "source": []
  },
  {
   "cell_type": "code",
   "execution_count": 17,
   "metadata": {},
   "outputs": [],
   "source": [
    "poll_obj = select.poll()\n",
    "poll_obj.register(p.stdout, select.POLLIN)   \n",
    "while(some_criterium and not time_limit):\n",
    "    poll_result = poll_obj.poll(0)\n",
    "    if poll_result:\n",
    "        line = scan_process.stdout.readline()\n",
    "        some_criterium = do_something(line)\n",
    "    update(time_limit)"
   ]
  },
  {
   "cell_type": "code",
   "execution_count": 15,
   "metadata": {},
   "outputs": [
    {
     "name": "stdout",
     "output_type": "stream",
     "text": [
      "127.0.0.1 - - [01/Nov/2019 01:44:54] \"\u001b[37mPOST /post HTTP/1.1\u001b[0m\" 200 -\n"
     ]
    }
   ],
   "source": [
    "# outs, errs = p.communicate()\n",
    "# print(outs.decode(), end='')\n",
    "print(p.stdout.readline().decode(), end='')\n",
    "# print(p.stdout.readline().decode(), end='')"
   ]
  },
  {
   "cell_type": "code",
   "execution_count": 7,
   "metadata": {},
   "outputs": [
    {
     "ename": "AttributeError",
     "evalue": "'NoneType' object has no attribute 'readline'",
     "output_type": "error",
     "traceback": [
      "\u001b[0;31m---------------------------------------------------------------------------\u001b[0m",
      "\u001b[0;31mAttributeError\u001b[0m                            Traceback (most recent call last)",
      "\u001b[0;32m<ipython-input-7-ff6844b2b0d3>\u001b[0m in \u001b[0;36m<module>\u001b[0;34m\u001b[0m\n\u001b[0;32m----> 1\u001b[0;31m \u001b[0mprint\u001b[0m\u001b[0;34m(\u001b[0m\u001b[0mp\u001b[0m\u001b[0;34m.\u001b[0m\u001b[0mstderr\u001b[0m\u001b[0;34m.\u001b[0m\u001b[0mreadline\u001b[0m\u001b[0;34m(\u001b[0m\u001b[0;34m)\u001b[0m\u001b[0;34m.\u001b[0m\u001b[0mdecode\u001b[0m\u001b[0;34m(\u001b[0m\u001b[0;34m)\u001b[0m\u001b[0;34m,\u001b[0m \u001b[0mend\u001b[0m\u001b[0;34m=\u001b[0m\u001b[0;34m''\u001b[0m\u001b[0;34m)\u001b[0m\u001b[0;34m\u001b[0m\u001b[0;34m\u001b[0m\u001b[0m\n\u001b[0m",
      "\u001b[0;31mAttributeError\u001b[0m: 'NoneType' object has no attribute 'readline'"
     ]
    }
   ],
   "source": [
    "print(p.stderr.readline().decode(), end='')"
   ]
  },
  {
   "cell_type": "code",
   "execution_count": 5,
   "metadata": {},
   "outputs": [
    {
     "data": {
      "text/plain": [
       "'Request Processed.\\n'"
      ]
     },
     "execution_count": 5,
     "metadata": {},
     "output_type": "execute_result"
    }
   ],
   "source": [
    "gsm.send_msg('http://localhost:5000/', 'post', data=json.dumps({'test':'test'}))"
   ]
  },
  {
   "cell_type": "code",
   "execution_count": null,
   "metadata": {},
   "outputs": [],
   "source": []
  },
  {
   "cell_type": "code",
   "execution_count": null,
   "metadata": {},
   "outputs": [],
   "source": []
  },
  {
   "cell_type": "code",
   "execution_count": 14,
   "metadata": {},
   "outputs": [],
   "source": [
    "import subprocess\n",
    "import shlex"
   ]
  },
  {
   "cell_type": "code",
   "execution_count": 18,
   "metadata": {},
   "outputs": [],
   "source": [
    "command = shlex.split(\"ping -c 5 google.com\")\n",
    "process = subprocess.Popen(command, stdout=subprocess.PIPE)\n",
    "output, err = process.communicate()"
   ]
  },
  {
   "cell_type": "code",
   "execution_count": 19,
   "metadata": {},
   "outputs": [
    {
     "name": "stdout",
     "output_type": "stream",
     "text": [
      "PING google.com (172.217.16.206) 56(84) bytes of data.\n",
      "64 bytes from fra16s08-in-f206.1e100.net (172.217.16.206): icmp_seq=1 ttl=55 time=19.4 ms\n",
      "64 bytes from fra16s08-in-f206.1e100.net (172.217.16.206): icmp_seq=2 ttl=55 time=16.9 ms\n",
      "64 bytes from fra16s08-in-f206.1e100.net (172.217.16.206): icmp_seq=3 ttl=55 time=28.3 ms\n",
      "64 bytes from fra16s08-in-f206.1e100.net (172.217.16.206): icmp_seq=4 ttl=55 time=21.3 ms\n",
      "64 bytes from fra16s08-in-f206.1e100.net (172.217.16.206): icmp_seq=5 ttl=55 time=16.7 ms\n",
      "\n",
      "--- google.com ping statistics ---\n",
      "5 packets transmitted, 5 received, 0% packet loss, time 3998ms\n",
      "rtt min/avg/max/mdev = 16.703/20.535/28.326/4.254 ms\n",
      "\n"
     ]
    }
   ],
   "source": [
    "print(output.decode())"
   ]
  },
  {
   "cell_type": "code",
   "execution_count": null,
   "metadata": {},
   "outputs": [],
   "source": []
  },
  {
   "cell_type": "code",
   "execution_count": 13,
   "metadata": {},
   "outputs": [
    {
     "ename": "KeyboardInterrupt",
     "evalue": "",
     "output_type": "error",
     "traceback": [
      "\u001b[0;31m---------------------------------------------------------------------------\u001b[0m",
      "\u001b[0;31mKeyboardInterrupt\u001b[0m                         Traceback (most recent call last)",
      "\u001b[0;32m<ipython-input-13-2c5d259a6e31>\u001b[0m in \u001b[0;36m<module>\u001b[0;34m\u001b[0m\n\u001b[0;32m----> 1\u001b[0;31m \u001b[0mproc\u001b[0m \u001b[0;34m=\u001b[0m \u001b[0msubprocess\u001b[0m\u001b[0;34m.\u001b[0m\u001b[0mrun\u001b[0m\u001b[0;34m(\u001b[0m\u001b[0;34m[\u001b[0m\u001b[0;34m'python'\u001b[0m\u001b[0;34m,\u001b[0m \u001b[0;34m'test_saving.py'\u001b[0m\u001b[0;34m]\u001b[0m\u001b[0;34m,\u001b[0m \u001b[0mcapture_output\u001b[0m\u001b[0;34m=\u001b[0m\u001b[0;32mTrue\u001b[0m\u001b[0;34m)\u001b[0m\u001b[0;34m\u001b[0m\u001b[0;34m\u001b[0m\u001b[0m\n\u001b[0m",
      "\u001b[0;32m~/anaconda3/lib/python3.7/subprocess.py\u001b[0m in \u001b[0;36mrun\u001b[0;34m(input, capture_output, timeout, check, *popenargs, **kwargs)\u001b[0m\n\u001b[1;32m    472\u001b[0m     \u001b[0;32mwith\u001b[0m \u001b[0mPopen\u001b[0m\u001b[0;34m(\u001b[0m\u001b[0;34m*\u001b[0m\u001b[0mpopenargs\u001b[0m\u001b[0;34m,\u001b[0m \u001b[0;34m**\u001b[0m\u001b[0mkwargs\u001b[0m\u001b[0;34m)\u001b[0m \u001b[0;32mas\u001b[0m \u001b[0mprocess\u001b[0m\u001b[0;34m:\u001b[0m\u001b[0;34m\u001b[0m\u001b[0;34m\u001b[0m\u001b[0m\n\u001b[1;32m    473\u001b[0m         \u001b[0;32mtry\u001b[0m\u001b[0;34m:\u001b[0m\u001b[0;34m\u001b[0m\u001b[0;34m\u001b[0m\u001b[0m\n\u001b[0;32m--> 474\u001b[0;31m             \u001b[0mstdout\u001b[0m\u001b[0;34m,\u001b[0m \u001b[0mstderr\u001b[0m \u001b[0;34m=\u001b[0m \u001b[0mprocess\u001b[0m\u001b[0;34m.\u001b[0m\u001b[0mcommunicate\u001b[0m\u001b[0;34m(\u001b[0m\u001b[0minput\u001b[0m\u001b[0;34m,\u001b[0m \u001b[0mtimeout\u001b[0m\u001b[0;34m=\u001b[0m\u001b[0mtimeout\u001b[0m\u001b[0;34m)\u001b[0m\u001b[0;34m\u001b[0m\u001b[0;34m\u001b[0m\u001b[0m\n\u001b[0m\u001b[1;32m    475\u001b[0m         \u001b[0;32mexcept\u001b[0m \u001b[0mTimeoutExpired\u001b[0m\u001b[0;34m:\u001b[0m\u001b[0;34m\u001b[0m\u001b[0;34m\u001b[0m\u001b[0m\n\u001b[1;32m    476\u001b[0m             \u001b[0mprocess\u001b[0m\u001b[0;34m.\u001b[0m\u001b[0mkill\u001b[0m\u001b[0;34m(\u001b[0m\u001b[0;34m)\u001b[0m\u001b[0;34m\u001b[0m\u001b[0;34m\u001b[0m\u001b[0m\n",
      "\u001b[0;32m~/anaconda3/lib/python3.7/subprocess.py\u001b[0m in \u001b[0;36mcommunicate\u001b[0;34m(self, input, timeout)\u001b[0m\n\u001b[1;32m    937\u001b[0m \u001b[0;34m\u001b[0m\u001b[0m\n\u001b[1;32m    938\u001b[0m             \u001b[0;32mtry\u001b[0m\u001b[0;34m:\u001b[0m\u001b[0;34m\u001b[0m\u001b[0;34m\u001b[0m\u001b[0m\n\u001b[0;32m--> 939\u001b[0;31m                 \u001b[0mstdout\u001b[0m\u001b[0;34m,\u001b[0m \u001b[0mstderr\u001b[0m \u001b[0;34m=\u001b[0m \u001b[0mself\u001b[0m\u001b[0;34m.\u001b[0m\u001b[0m_communicate\u001b[0m\u001b[0;34m(\u001b[0m\u001b[0minput\u001b[0m\u001b[0;34m,\u001b[0m \u001b[0mendtime\u001b[0m\u001b[0;34m,\u001b[0m \u001b[0mtimeout\u001b[0m\u001b[0;34m)\u001b[0m\u001b[0;34m\u001b[0m\u001b[0;34m\u001b[0m\u001b[0m\n\u001b[0m\u001b[1;32m    940\u001b[0m             \u001b[0;32mexcept\u001b[0m \u001b[0mKeyboardInterrupt\u001b[0m\u001b[0;34m:\u001b[0m\u001b[0;34m\u001b[0m\u001b[0;34m\u001b[0m\u001b[0m\n\u001b[1;32m    941\u001b[0m                 \u001b[0;31m# https://bugs.python.org/issue25942\u001b[0m\u001b[0;34m\u001b[0m\u001b[0;34m\u001b[0m\u001b[0;34m\u001b[0m\u001b[0m\n",
      "\u001b[0;32m~/anaconda3/lib/python3.7/subprocess.py\u001b[0m in \u001b[0;36m_communicate\u001b[0;34m(self, input, endtime, orig_timeout)\u001b[0m\n\u001b[1;32m   1679\u001b[0m                         \u001b[0;32mraise\u001b[0m \u001b[0mTimeoutExpired\u001b[0m\u001b[0;34m(\u001b[0m\u001b[0mself\u001b[0m\u001b[0;34m.\u001b[0m\u001b[0margs\u001b[0m\u001b[0;34m,\u001b[0m \u001b[0morig_timeout\u001b[0m\u001b[0;34m)\u001b[0m\u001b[0;34m\u001b[0m\u001b[0;34m\u001b[0m\u001b[0m\n\u001b[1;32m   1680\u001b[0m \u001b[0;34m\u001b[0m\u001b[0m\n\u001b[0;32m-> 1681\u001b[0;31m                     \u001b[0mready\u001b[0m \u001b[0;34m=\u001b[0m \u001b[0mselector\u001b[0m\u001b[0;34m.\u001b[0m\u001b[0mselect\u001b[0m\u001b[0;34m(\u001b[0m\u001b[0mtimeout\u001b[0m\u001b[0;34m)\u001b[0m\u001b[0;34m\u001b[0m\u001b[0;34m\u001b[0m\u001b[0m\n\u001b[0m\u001b[1;32m   1682\u001b[0m                     \u001b[0mself\u001b[0m\u001b[0;34m.\u001b[0m\u001b[0m_check_timeout\u001b[0m\u001b[0;34m(\u001b[0m\u001b[0mendtime\u001b[0m\u001b[0;34m,\u001b[0m \u001b[0morig_timeout\u001b[0m\u001b[0;34m)\u001b[0m\u001b[0;34m\u001b[0m\u001b[0;34m\u001b[0m\u001b[0m\n\u001b[1;32m   1683\u001b[0m \u001b[0;34m\u001b[0m\u001b[0m\n",
      "\u001b[0;32m~/anaconda3/lib/python3.7/selectors.py\u001b[0m in \u001b[0;36mselect\u001b[0;34m(self, timeout)\u001b[0m\n\u001b[1;32m    413\u001b[0m         \u001b[0mready\u001b[0m \u001b[0;34m=\u001b[0m \u001b[0;34m[\u001b[0m\u001b[0;34m]\u001b[0m\u001b[0;34m\u001b[0m\u001b[0;34m\u001b[0m\u001b[0m\n\u001b[1;32m    414\u001b[0m         \u001b[0;32mtry\u001b[0m\u001b[0;34m:\u001b[0m\u001b[0;34m\u001b[0m\u001b[0;34m\u001b[0m\u001b[0m\n\u001b[0;32m--> 415\u001b[0;31m             \u001b[0mfd_event_list\u001b[0m \u001b[0;34m=\u001b[0m \u001b[0mself\u001b[0m\u001b[0;34m.\u001b[0m\u001b[0m_selector\u001b[0m\u001b[0;34m.\u001b[0m\u001b[0mpoll\u001b[0m\u001b[0;34m(\u001b[0m\u001b[0mtimeout\u001b[0m\u001b[0;34m)\u001b[0m\u001b[0;34m\u001b[0m\u001b[0;34m\u001b[0m\u001b[0m\n\u001b[0m\u001b[1;32m    416\u001b[0m         \u001b[0;32mexcept\u001b[0m \u001b[0mInterruptedError\u001b[0m\u001b[0;34m:\u001b[0m\u001b[0;34m\u001b[0m\u001b[0;34m\u001b[0m\u001b[0m\n\u001b[1;32m    417\u001b[0m             \u001b[0;32mreturn\u001b[0m \u001b[0mready\u001b[0m\u001b[0;34m\u001b[0m\u001b[0;34m\u001b[0m\u001b[0m\n",
      "\u001b[0;31mKeyboardInterrupt\u001b[0m: "
     ]
    }
   ],
   "source": [
    "proc = subprocess.run(['python', 'test_saving.py'], capture_output=True)"
   ]
  },
  {
   "cell_type": "code",
   "execution_count": null,
   "metadata": {},
   "outputs": [],
   "source": [
    "print(proc.stdout.decode('utf-8'))"
   ]
  },
  {
   "cell_type": "code",
   "execution_count": null,
   "metadata": {},
   "outputs": [],
   "source": []
  },
  {
   "cell_type": "code",
   "execution_count": null,
   "metadata": {},
   "outputs": [],
   "source": []
  },
  {
   "cell_type": "code",
   "execution_count": null,
   "metadata": {},
   "outputs": [],
   "source": []
  },
  {
   "cell_type": "code",
   "execution_count": null,
   "metadata": {},
   "outputs": [],
   "source": []
  },
  {
   "cell_type": "code",
   "execution_count": 2,
   "metadata": {},
   "outputs": [
    {
     "data": {
      "text/plain": [
       "tdict([('a', 1), ('b', 2), ('c', 3), ('d', 10)])"
      ]
     },
     "execution_count": 2,
     "metadata": {},
     "output_type": "execute_result"
    }
   ],
   "source": [
    "x = tdict(a=1, b=2, c=3, d=10)\n",
    "x"
   ]
  },
  {
   "cell_type": "code",
   "execution_count": 4,
   "metadata": {},
   "outputs": [
    {
     "data": {
      "text/plain": [
       "['d', 'd', 'b', 'c', 'd', 'd', 'c', 'b', 'd', 'a']"
      ]
     },
     "execution_count": 4,
     "metadata": {},
     "output_type": "execute_result"
    }
   ],
   "source": [
    "random.choices(*zip(*list(x.items())),k=10)"
   ]
  },
  {
   "cell_type": "code",
   "execution_count": null,
   "metadata": {
    "collapsed": true
   },
   "outputs": [],
   "source": []
  },
  {
   "cell_type": "code",
   "execution_count": 2,
   "metadata": {
    "collapsed": true
   },
   "outputs": [],
   "source": [
    "test_yaml = '../test_yaml.yaml'"
   ]
  },
  {
   "cell_type": "code",
   "execution_count": null,
   "metadata": {},
   "outputs": [
    {
     "data": {
      "text/plain": [
       "tdict('map':['  W Y O  ', ' B S B O ', 'O S W Y S', ' D B Y W ', '  Y W S  '], 'field':tdict('W':tdict('res':'wood'), 'Y':tdict('res':'wheat'), 'S':tdict('res':'sheep'), 'O':tdict('res':'ore'), 'B':tdict('res':'brick'), 'D':tdict('res':'desert')))"
      ]
     },
     "execution_count": 3,
     "metadata": {},
     "output_type": "execute_result"
    }
   ],
   "source": [
    "data = viz.unjsonify(yaml.load(open(test_yaml,'r'), Loader=yaml.SafeLoader))\n",
    "data"
   ]
  },
  {
   "cell_type": "code",
   "execution_count": 4,
   "metadata": {},
   "outputs": [
    {
     "name": "stdout",
     "output_type": "stream",
     "text": [
      "  W Y O  \n",
      " B S B O \n",
      "O S W Y S\n",
      " D B Y W \n",
      "  Y W S  \n"
     ]
    }
   ],
   "source": [
    "M = data['map']\n",
    "# M = ['A B', ' C ']\n",
    "\n",
    "print('\\n'.join(M))"
   ]
  },
  {
   "cell_type": "code",
   "execution_count": 5,
   "metadata": {
    "collapsed": true
   },
   "outputs": [],
   "source": [
    "G = grid.make_hexgrid(M, enable_corners=True, enable_edges=True)"
   ]
  },
  {
   "cell_type": "code",
   "execution_count": 6,
   "metadata": {},
   "outputs": [
    {
     "data": {
      "text/plain": [
       "odict_keys(['obj_type', 'fields', 'rows', 'cols', 'edges', 'corners'])"
      ]
     },
     "execution_count": 6,
     "metadata": {},
     "output_type": "execute_result"
    }
   ],
   "source": [
    "G.keys()"
   ]
  },
  {
   "cell_type": "code",
   "execution_count": 7,
   "metadata": {},
   "outputs": [
    {
     "data": {
      "text/plain": [
       "odict_keys(['field0', 'field1', 'field2', 'field3', 'field4', 'field5', 'field6', 'field7', 'field8', 'field9', 'field10', 'field11', 'field12', 'field13', 'field14', 'field15', 'field16', 'field17', 'field18'])"
      ]
     },
     "execution_count": 7,
     "metadata": {},
     "output_type": "execute_result"
    }
   ],
   "source": [
    "G.fields.keys()"
   ]
  },
  {
   "cell_type": "code",
   "execution_count": 8,
   "metadata": {},
   "outputs": [
    {
     "data": {
      "text/plain": [
       "'tdict(obj_type, _id, row, col, neighbors, val, edges, corners)'"
      ]
     },
     "execution_count": 8,
     "metadata": {},
     "output_type": "execute_result"
    }
   ],
   "source": [
    "str(G.fields.field0)"
   ]
  },
  {
   "cell_type": "code",
   "execution_count": 9,
   "metadata": {},
   "outputs": [
    {
     "data": {
      "text/plain": [
       "'W'"
      ]
     },
     "execution_count": 9,
     "metadata": {},
     "output_type": "execute_result"
    }
   ],
   "source": [
    "G.fields.field0.val"
   ]
  },
  {
   "cell_type": "code",
   "execution_count": 10,
   "metadata": {},
   "outputs": [
    {
     "data": {
      "text/plain": [
       "(19, 54, 72)"
      ]
     },
     "execution_count": 10,
     "metadata": {},
     "output_type": "execute_result"
    }
   ],
   "source": [
    "len(G.fields), len(G.corners), len(G.edges)"
   ]
  },
  {
   "cell_type": "code",
   "execution_count": 5,
   "metadata": {
    "collapsed": true
   },
   "outputs": [],
   "source": [
    "info = grid_util._create_grid(M, grid_type='hex',\n",
    "              wrap_rows=False, wrap_cols=False,\n",
    "#               enforce_connectivity=True,\n",
    "              enable_edges=True, enable_corners=True, enable_boundary=False,\n",
    "                )\n",
    "info = viz.unjsonify(info)"
   ]
  },
  {
   "cell_type": "code",
   "execution_count": null,
   "metadata": {
    "collapsed": true
   },
   "outputs": [],
   "source": []
  },
  {
   "cell_type": "code",
   "execution_count": 6,
   "metadata": {},
   "outputs": [
    {
     "data": {
      "text/plain": [
       "odict_keys(['fields', 'map', 'edges', 'corners'])"
      ]
     },
     "execution_count": 6,
     "metadata": {},
     "output_type": "execute_result"
    }
   ],
   "source": [
    "info.keys()"
   ]
  },
  {
   "cell_type": "code",
   "execution_count": 7,
   "metadata": {},
   "outputs": [
    {
     "data": {
      "text/plain": [
       "odict_keys(['field0', 'field1', 'field2', 'field3', 'field4', 'field5', 'field6', 'field7', 'field8', 'field9', 'field10', 'field11', 'field12', 'field13', 'field14', 'field15', 'field16', 'field17', 'field18'])"
      ]
     },
     "execution_count": 7,
     "metadata": {},
     "output_type": "execute_result"
    }
   ],
   "source": [
    "info['fields'].keys()"
   ]
  },
  {
   "cell_type": "code",
   "execution_count": 8,
   "metadata": {},
   "outputs": [
    {
     "name": "stdout",
     "output_type": "stream",
     "text": [
      "[[None None 'field0' None 'field1' None 'field2' None None]\n",
      " [None 'field3' None 'field4' None 'field5' None 'field6' None]\n",
      " ['field7' None 'field8' None 'field9' None 'field10' None 'field11']\n",
      " [None 'field12' None 'field13' None 'field14' None 'field15' None]\n",
      " [None None 'field16' None 'field17' None 'field18' None None]]\n"
     ]
    }
   ],
   "source": [
    "print(info['map'])"
   ]
  },
  {
   "cell_type": "code",
   "execution_count": 9,
   "metadata": {},
   "outputs": [
    {
     "data": {
      "text/plain": [
       "(19, 72, 54)"
      ]
     },
     "execution_count": 9,
     "metadata": {},
     "output_type": "execute_result"
    }
   ],
   "source": [
    "len(info.fields), len(info.edges), len(info.corners)"
   ]
  },
  {
   "cell_type": "code",
   "execution_count": null,
   "metadata": {
    "collapsed": true
   },
   "outputs": [],
   "source": []
  },
  {
   "cell_type": "code",
   "execution_count": null,
   "metadata": {
    "collapsed": true
   },
   "outputs": [],
   "source": []
  },
  {
   "cell_type": "code",
   "execution_count": 2,
   "metadata": {
    "collapsed": true
   },
   "outputs": [],
   "source": [
    "class Test(object):\n",
    "    def __new__(cls, *args, **kwargs):\n",
    "        print('__new__', args, kwargs)\n",
    "        return super().__new__(cls)\n",
    "    def __init__(self, *args, **kwargs):\n",
    "        super().__init__()\n",
    "        print('__init__', args, kwargs)"
   ]
  },
  {
   "cell_type": "code",
   "execution_count": 3,
   "metadata": {},
   "outputs": [
    {
     "name": "stdout",
     "output_type": "stream",
     "text": [
      "__new__ () {}\n",
      "__init__ () {}\n"
     ]
    }
   ],
   "source": [
    "a = Test()"
   ]
  },
  {
   "cell_type": "code",
   "execution_count": 4,
   "metadata": {},
   "outputs": [
    {
     "name": "stdout",
     "output_type": "stream",
     "text": [
      "__new__ () {}\n",
      "__init__ () {}\n"
     ]
    }
   ],
   "source": [
    "b = Test.__new__(Test)\n",
    "b.__init__()"
   ]
  },
  {
   "cell_type": "code",
   "execution_count": 5,
   "metadata": {},
   "outputs": [
    {
     "data": {
      "text/plain": [
       "(<__main__.Test at 0x7f7dfc193320>, <__main__.Test at 0x7f7dfc1dc390>)"
      ]
     },
     "execution_count": 5,
     "metadata": {},
     "output_type": "execute_result"
    }
   ],
   "source": [
    "a, b"
   ]
  },
  {
   "cell_type": "code",
   "execution_count": 6,
   "metadata": {},
   "outputs": [
    {
     "data": {
      "text/plain": [
       "True"
      ]
     },
     "execution_count": 6,
     "metadata": {},
     "output_type": "execute_result"
    }
   ],
   "source": [
    "dir(a) == dir(b)"
   ]
  },
  {
   "cell_type": "code",
   "execution_count": null,
   "metadata": {
    "collapsed": true
   },
   "outputs": [],
   "source": []
  },
  {
   "cell_type": "code",
   "execution_count": null,
   "metadata": {
    "collapsed": true
   },
   "outputs": [],
   "source": []
  },
  {
   "cell_type": "code",
   "execution_count": null,
   "metadata": {
    "collapsed": true
   },
   "outputs": [],
   "source": []
  },
  {
   "cell_type": "code",
   "execution_count": null,
   "metadata": {
    "collapsed": true
   },
   "outputs": [],
   "source": []
  },
  {
   "cell_type": "code",
   "execution_count": null,
   "metadata": {
    "collapsed": true
   },
   "outputs": [],
   "source": []
  },
  {
   "cell_type": "code",
   "execution_count": 5,
   "metadata": {
    "collapsed": true
   },
   "outputs": [],
   "source": [
    "def f(*args):\n",
    "    print(type(args))\n",
    "    print(args)"
   ]
  },
  {
   "cell_type": "code",
   "execution_count": 21,
   "metadata": {},
   "outputs": [
    {
     "name": "stdout",
     "output_type": "stream",
     "text": [
      "__new__ () {}\n",
      "__init__ () {}\n"
     ]
    },
    {
     "ename": "TypeError",
     "evalue": "f() argument after ** must be a mapping, not Test",
     "output_type": "error",
     "traceback": [
      "\u001b[0;31m---------------------------------------------------------------------------\u001b[0m",
      "\u001b[0;31mTypeError\u001b[0m                                 Traceback (most recent call last)",
      "\u001b[0;32m<ipython-input-21-613b9a5bd638>\u001b[0m in \u001b[0;36m<module>\u001b[0;34m()\u001b[0m\n\u001b[0;32m----> 1\u001b[0;31m \u001b[0mf\u001b[0m\u001b[0;34m(\u001b[0m\u001b[0;34m{\u001b[0m\u001b[0;34m}\u001b[0m\u001b[0;34m,\u001b[0m \u001b[0;34m'a'\u001b[0m\u001b[0;34m,\u001b[0m \u001b[0;34m**\u001b[0m\u001b[0mTest\u001b[0m\u001b[0;34m(\u001b[0m\u001b[0;34m)\u001b[0m\u001b[0;34m)\u001b[0m\u001b[0;34m\u001b[0m\u001b[0m\n\u001b[0m",
      "\u001b[0;31mTypeError\u001b[0m: f() argument after ** must be a mapping, not Test"
     ]
    }
   ],
   "source": [
    "f({}, 'a', **Test())"
   ]
  },
  {
   "cell_type": "code",
   "execution_count": 11,
   "metadata": {},
   "outputs": [
    {
     "data": {
      "text/plain": [
       "True"
      ]
     },
     "execution_count": 11,
     "metadata": {},
     "output_type": "execute_result"
    }
   ],
   "source": [
    "([1,2],{'z','x'}) == ([1,2],{'z','x'})"
   ]
  },
  {
   "cell_type": "code",
   "execution_count": 14,
   "metadata": {},
   "outputs": [
    {
     "data": {
      "text/plain": [
       "False"
      ]
     },
     "execution_count": 14,
     "metadata": {},
     "output_type": "execute_result"
    }
   ],
   "source": [
    "{'z','x'} == {'x','z', 'y'}"
   ]
  },
  {
   "cell_type": "code",
   "execution_count": null,
   "metadata": {
    "collapsed": true
   },
   "outputs": [],
   "source": []
  },
  {
   "cell_type": "code",
   "execution_count": null,
   "metadata": {
    "collapsed": true
   },
   "outputs": [],
   "source": []
  },
  {
   "cell_type": "code",
   "execution_count": 15,
   "metadata": {
    "collapsed": true
   },
   "outputs": [],
   "source": [
    "class Test:\n",
    "    def __init__(self, x=1):\n",
    "        super().__init__()\n",
    "        self.val = x\n",
    "    def __str__(self):\n",
    "        return 'TEST({})'.format(self.val)\n",
    "    def __repr__(self):\n",
    "        return 'Test({})'.format(self.val)\n",
    "    def __eq__(self, other):\n",
    "        try:\n",
    "            return self.val == other.val\n",
    "        except AttributeError:\n",
    "            return self.val == other\n",
    "\n",
    "    def __add__(self, other):\n",
    "        try:\n",
    "            return self.val + other.val\n",
    "        except AttributeError:\n",
    "            return self.val + other"
   ]
  },
  {
   "cell_type": "code",
   "execution_count": 16,
   "metadata": {},
   "outputs": [
    {
     "data": {
      "text/plain": [
       "array([[Test(1), Test(1), Test(1)],\n",
       "       [Test(1), Test(1), Test(1)]], dtype=object)"
      ]
     },
     "execution_count": 16,
     "metadata": {},
     "output_type": "execute_result"
    }
   ],
   "source": [
    "a = np.array([[Test(),Test(), Test()], [Test(),Test(), Test()]])\n",
    "a"
   ]
  },
  {
   "cell_type": "code",
   "execution_count": 20,
   "metadata": {
    "collapsed": true
   },
   "outputs": [],
   "source": [
    "a[1,2] += 1"
   ]
  },
  {
   "cell_type": "code",
   "execution_count": 23,
   "metadata": {},
   "outputs": [
    {
     "data": {
      "text/plain": [
       "array([], dtype=int64)"
      ]
     },
     "execution_count": 23,
     "metadata": {},
     "output_type": "execute_result"
    }
   ],
   "source": [
    "np.arange(3)[[False, False, False]]"
   ]
  },
  {
   "cell_type": "code",
   "execution_count": 22,
   "metadata": {},
   "outputs": [
    {
     "data": {
      "text/plain": [
       "array([2, 2, 3], dtype=object)"
      ]
     },
     "execution_count": 22,
     "metadata": {},
     "output_type": "execute_result"
    }
   ],
   "source": [
    "a.sum(0)"
   ]
  },
  {
   "cell_type": "code",
   "execution_count": 9,
   "metadata": {},
   "outputs": [
    {
     "data": {
      "text/plain": [
       "'object'"
      ]
     },
     "execution_count": 9,
     "metadata": {},
     "output_type": "execute_result"
    }
   ],
   "source": [
    "a.dtype.name"
   ]
  },
  {
   "cell_type": "code",
   "execution_count": 10,
   "metadata": {},
   "outputs": [
    {
     "data": {
      "text/plain": [
       "array([[Test(1), Test(1), Test(1)],\n",
       "       [Test(1), Test(1), Test(1)]], dtype=object)"
      ]
     },
     "execution_count": 10,
     "metadata": {},
     "output_type": "execute_result"
    }
   ],
   "source": [
    "np.array(a.tolist(), dtype='object')"
   ]
  },
  {
   "cell_type": "code",
   "execution_count": 14,
   "metadata": {},
   "outputs": [
    {
     "data": {
      "text/plain": [
       "array([[None, None, None],\n",
       "       [None, None, None],\n",
       "       [None, None, None]], dtype=object)"
      ]
     },
     "execution_count": 14,
     "metadata": {},
     "output_type": "execute_result"
    }
   ],
   "source": [
    "a = np.empty((3,3), dtype='object')\n",
    "a"
   ]
  },
  {
   "cell_type": "code",
   "execution_count": null,
   "metadata": {
    "collapsed": true
   },
   "outputs": [],
   "source": []
  },
  {
   "cell_type": "code",
   "execution_count": 31,
   "metadata": {},
   "outputs": [
    {
     "data": {
      "text/plain": [
       "[[Test(1), Test(1)], [Test(1), Test(1)]]"
      ]
     },
     "execution_count": 31,
     "metadata": {},
     "output_type": "execute_result"
    }
   ],
   "source": [
    "x = a.tolist()\n",
    "x"
   ]
  },
  {
   "cell_type": "code",
   "execution_count": null,
   "metadata": {
    "collapsed": true
   },
   "outputs": [],
   "source": []
  },
  {
   "cell_type": "code",
   "execution_count": null,
   "metadata": {
    "collapsed": true
   },
   "outputs": [],
   "source": []
  },
  {
   "cell_type": "code",
   "execution_count": 2,
   "metadata": {},
   "outputs": [
    {
     "data": {
      "text/plain": [
       "odict_keys(['obj_type', 'fields'])"
      ]
     },
     "execution_count": 2,
     "metadata": {},
     "output_type": "execute_result"
    }
   ],
   "source": [
    "G = make_quadgrid(3,3)\n",
    "G.keys()"
   ]
  },
  {
   "cell_type": "code",
   "execution_count": 4,
   "metadata": {},
   "outputs": [
    {
     "data": {
      "text/plain": [
       "odict_keys(['f1', 'f2', 'f3', 'f4', 'f5', 'f6', 'f7', 'f8', 'f9'])"
      ]
     },
     "execution_count": 4,
     "metadata": {},
     "output_type": "execute_result"
    }
   ],
   "source": [
    "G.fields.keys()"
   ]
  },
  {
   "cell_type": "code",
   "execution_count": null,
   "metadata": {
    "collapsed": true
   },
   "outputs": [],
   "source": []
  },
  {
   "cell_type": "code",
   "execution_count": null,
   "metadata": {
    "collapsed": true
   },
   "outputs": [],
   "source": []
  },
  {
   "cell_type": "code",
   "execution_count": 11,
   "metadata": {},
   "outputs": [
    {
     "name": "stderr",
     "output_type": "stream",
     "text": [
      "[autoreload of gsm.wrappers failed: Traceback (most recent call last):\n",
      "  File \"/home/fleeb/anaconda3/lib/python3.6/site-packages/IPython/extensions/autoreload.py\", line 246, in check\n",
      "    superreload(m, reload, self.old_objects)\n",
      "  File \"/home/fleeb/anaconda3/lib/python3.6/site-packages/IPython/extensions/autoreload.py\", line 369, in superreload\n",
      "    module = reload(module)\n",
      "  File \"/home/fleeb/anaconda3/lib/python3.6/imp.py\", line 315, in reload\n",
      "    return importlib.reload(module)\n",
      "  File \"/home/fleeb/anaconda3/lib/python3.6/importlib/__init__.py\", line 166, in reload\n",
      "    _bootstrap._exec(spec, module)\n",
      "  File \"<frozen importlib._bootstrap>\", line 618, in _exec\n",
      "  File \"<frozen importlib._bootstrap_external>\", line 678, in exec_module\n",
      "  File \"<frozen importlib._bootstrap>\", line 219, in _call_with_frames_removed\n",
      "  File \"/mnt/c/Users/anwan/OneDrive - UW Office 365/Khan/Other/gsm/git/gsm/wrappers.py\", line 11, in <module>\n",
      "    class ObjectWrapper(ObjectProxy, Transactionable, Savable):\n",
      "  File \"/mnt/c/Users/anwan/OneDrive - UW Office 365/Khan/Other/gsm/git/gsm/mixins.py\", line 21, in __init_subclass__\n",
      "    raise SavableClassCollisionError(name, cls)\n",
      "gsm.signals.SavableClassCollisionError: A class with the address gsm.wrappers.ObjectWrapper is already in the class register of Savable\n",
      "]\n"
     ]
    }
   ],
   "source": [
    "G = grid.quadgrid(3,3)"
   ]
  },
  {
   "cell_type": "code",
   "execution_count": 12,
   "metadata": {
    "scrolled": true
   },
   "outputs": [
    {
     "data": {
      "text/html": [
       "<div id=\"3e39d279-5590-48f1-87e1-c604b69c924d\" style=\"height: 600px; width:100%;\"></div>"
      ]
     },
     "metadata": {},
     "output_type": "display_data"
    },
    {
     "data": {
      "application/javascript": "\n\t\trequire([\"https://rawgit.com/caldwell/renderjson/master/renderjson.js\"], function() {\n\t\t  renderjson.set_show_to_level(1)\n\t\t  document.getElementById('3e39d279-5590-48f1-87e1-c604b69c924d').appendChild(renderjson({'objects': {'f1': {'obj_type': 'field', 'id': 'f1', 'row': '1', 'col': '1', 'edges': {'l0': 'e1', 'l1': 'e2', 'l2': 'e3', 'l3': 'e4'}, 'fields': {'l0': 'None', 'l1': 'f2', 'l2': 'f4', 'l3': 'None'}, 'corners': {'l0': 'c1', 'l1': 'c2', 'l2': 'c3', 'l3': 'c4'}}, 'f2': {'obj_type': 'field', 'id': 'f2', 'row': '1', 'col': '2', 'edges': {'l0': 'e5', 'l1': 'e6', 'l2': 'e7', 'l3': 'e2'}, 'fields': {'l0': 'None', 'l1': 'f3', 'l2': 'f5', 'l3': 'f1'}, 'corners': {'l0': 'c5', 'l1': 'c6', 'l2': 'c2', 'l3': 'c1'}}, 'f3': {'obj_type': 'field', 'id': 'f3', 'row': '1', 'col': '3', 'edges': {'l0': 'e8', 'l1': 'e9', 'l2': 'e10', 'l3': 'e6'}, 'fields': {'l0': 'None', 'l1': 'None', 'l2': 'f6', 'l3': 'f2'}, 'corners': {'l0': 'c7', 'l1': 'c8', 'l2': 'c6', 'l3': 'c5'}}, 'f4': {'obj_type': 'field', 'id': 'f4', 'row': '2', 'col': '1', 'edges': {'l0': 'e3', 'l1': 'e11', 'l2': 'e12', 'l3': 'e13'}, 'fields': {'l0': 'f1', 'l1': 'f5', 'l2': 'f7', 'l3': 'None'}, 'corners': {'l0': 'c2', 'l1': 'c9', 'l2': 'c10', 'l3': 'c3'}}, 'f5': {'obj_type': 'field', 'id': 'f5', 'row': '2', 'col': '2', 'edges': {'l0': 'e7', 'l1': 'e14', 'l2': 'e15', 'l3': 'e11'}, 'fields': {'l0': 'f2', 'l1': 'f6', 'l2': 'f8', 'l3': 'f4'}, 'corners': {'l0': 'c6', 'l1': 'c11', 'l2': 'c9', 'l3': 'c2'}}, 'f6': {'obj_type': 'field', 'id': 'f6', 'row': '2', 'col': '3', 'edges': {'l0': 'e10', 'l1': 'e16', 'l2': 'e17', 'l3': 'e14'}, 'fields': {'l0': 'f3', 'l1': 'None', 'l2': 'f9', 'l3': 'f5'}, 'corners': {'l0': 'c8', 'l1': 'c12', 'l2': 'c11', 'l3': 'c6'}}, 'f7': {'obj_type': 'field', 'id': 'f7', 'row': '3', 'col': '1', 'edges': {'l0': 'e12', 'l1': 'e18', 'l2': 'e19', 'l3': 'e20'}, 'fields': {'l0': 'f4', 'l1': 'f8', 'l2': 'None', 'l3': 'None'}, 'corners': {'l0': 'c9', 'l1': 'c13', 'l2': 'c14', 'l3': 'c10'}}, 'f8': {'obj_type': 'field', 'id': 'f8', 'row': '3', 'col': '2', 'edges': {'l0': 'e15', 'l1': 'e21', 'l2': 'e22', 'l3': 'e18'}, 'fields': {'l0': 'f5', 'l1': 'f9', 'l2': 'None', 'l3': 'f7'}, 'corners': {'l0': 'c11', 'l1': 'c15', 'l2': 'c13', 'l3': 'c9'}}, 'f9': {'obj_type': 'field', 'id': 'f9', 'row': '3', 'col': '3', 'edges': {'l0': 'e17', 'l1': 'e23', 'l2': 'e24', 'l3': 'e21'}, 'fields': {'l0': 'f6', 'l1': 'None', 'l2': 'None', 'l3': 'f8'}, 'corners': {'l0': 'c12', 'l1': 'c16', 'l2': 'c15', 'l3': 'c11'}}, 'c1': {'obj_type': 'corner', 'id': 'c1', 'row': '0', 'col': '1', 'edges': {'l0': 'None', 'l1': 'e5', 'l2': 'e2', 'l3': 'e1'}, 'fields': {'l0': 'None', 'l1': 'f2', 'l2': 'f1', 'l3': 'None'}}, 'c2': {'obj_type': 'corner', 'id': 'c2', 'row': '1', 'col': '1', 'edges': {'l0': 'e2', 'l1': 'e7', 'l2': 'e11', 'l3': 'e3'}, 'fields': {'l0': 'f2', 'l1': 'f5', 'l2': 'f4', 'l3': 'f1'}}, 'c3': {'obj_type': 'corner', 'id': 'c3', 'row': '1', 'col': '0', 'edges': {'l0': 'e4', 'l1': 'e3', 'l2': 'e13', 'l3': 'None'}, 'fields': {'l0': 'f1', 'l1': 'f4', 'l2': 'None', 'l3': 'None'}}, 'c4': {'obj_type': 'corner', 'id': 'c4', 'row': '0', 'col': '0', 'edges': {'l0': 'None', 'l1': 'e1', 'l2': 'e4', 'l3': 'None'}, 'fields': {'l0': 'None', 'l1': 'f1', 'l2': 'None', 'l3': 'None'}}, 'c5': {'obj_type': 'corner', 'id': 'c5', 'row': '0', 'col': '2', 'edges': {'l0': 'None', 'l1': 'e8', 'l2': 'e6', 'l3': 'e5'}, 'fields': {'l0': 'None', 'l1': 'f3', 'l2': 'f2', 'l3': 'None'}}, 'c6': {'obj_type': 'corner', 'id': 'c6', 'row': '1', 'col': '2', 'edges': {'l0': 'e6', 'l1': 'e10', 'l2': 'e14', 'l3': 'e7'}, 'fields': {'l0': 'f3', 'l1': 'f6', 'l2': 'f5', 'l3': 'f2'}}, 'c7': {'obj_type': 'corner', 'id': 'c7', 'row': '0', 'col': '3', 'edges': {'l0': 'None', 'l1': 'None', 'l2': 'e9', 'l3': 'e8'}, 'fields': {'l0': 'None', 'l1': 'None', 'l2': 'f3', 'l3': 'None'}}, 'c8': {'obj_type': 'corner', 'id': 'c8', 'row': '1', 'col': '3', 'edges': {'l0': 'e9', 'l1': 'None', 'l2': 'e16', 'l3': 'e10'}, 'fields': {'l0': 'None', 'l1': 'None', 'l2': 'f6', 'l3': 'f3'}}, 'c9': {'obj_type': 'corner', 'id': 'c9', 'row': '2', 'col': '1', 'edges': {'l0': 'e11', 'l1': 'e15', 'l2': 'e18', 'l3': 'e12'}, 'fields': {'l0': 'f5', 'l1': 'f8', 'l2': 'f7', 'l3': 'f4'}}, 'c10': {'obj_type': 'corner', 'id': 'c10', 'row': '2', 'col': '0', 'edges': {'l0': 'e13', 'l1': 'e12', 'l2': 'e20', 'l3': 'None'}, 'fields': {'l0': 'f4', 'l1': 'f7', 'l2': 'None', 'l3': 'None'}}, 'c11': {'obj_type': 'corner', 'id': 'c11', 'row': '2', 'col': '2', 'edges': {'l0': 'e14', 'l1': 'e17', 'l2': 'e21', 'l3': 'e15'}, 'fields': {'l0': 'f6', 'l1': 'f9', 'l2': 'f8', 'l3': 'f5'}}, 'c12': {'obj_type': 'corner', 'id': 'c12', 'row': '2', 'col': '3', 'edges': {'l0': 'e16', 'l1': 'None', 'l2': 'e23', 'l3': 'e17'}, 'fields': {'l0': 'None', 'l1': 'None', 'l2': 'f9', 'l3': 'f6'}}, 'c13': {'obj_type': 'corner', 'id': 'c13', 'row': '3', 'col': '1', 'edges': {'l0': 'e18', 'l1': 'e22', 'l2': 'None', 'l3': 'e19'}, 'fields': {'l0': 'f8', 'l1': 'None', 'l2': 'None', 'l3': 'f7'}}, 'c14': {'obj_type': 'corner', 'id': 'c14', 'row': '3', 'col': '0', 'edges': {'l0': 'e20', 'l1': 'e19', 'l2': 'None', 'l3': 'None'}, 'fields': {'l0': 'f7', 'l1': 'None', 'l2': 'None', 'l3': 'None'}}, 'c15': {'obj_type': 'corner', 'id': 'c15', 'row': '3', 'col': '2', 'edges': {'l0': 'e21', 'l1': 'e24', 'l2': 'None', 'l3': 'e22'}, 'fields': {'l0': 'f9', 'l1': 'None', 'l2': 'None', 'l3': 'f8'}}, 'c16': {'obj_type': 'corner', 'id': 'c16', 'row': '3', 'col': '3', 'edges': {'l0': 'e23', 'l1': 'None', 'l2': 'None', 'l3': 'e24'}, 'fields': {'l0': 'None', 'l1': 'None', 'l2': 'None', 'l3': 'f9'}}, 'e1': {'obj_type': 'edge', 'id': 'e1', 'row': '0', 'col': '0', 'fields': {'l0': 'None', 'l1': 'f1'}, 'leftField': 'None', 'rightField': 'None', 'topField': 'None', 'bottomField': 'f1', 'crossField': 'None', 'corners': {'l0': 'c4', 'l1': 'c1'}, 'startNode': 'c4', 'endNode': 'c1'}, 'e2': {'obj_type': 'edge', 'id': 'e2', 'row': '0', 'col': '1', 'fields': {'l0': 'f2', 'l1': 'f1'}, 'leftField': 'f1', 'rightField': 'f2', 'topField': 'None', 'bottomField': 'None', 'crossField': 'None', 'corners': {'l0': 'c1', 'l1': 'c2'}, 'startNode': 'c1', 'endNode': 'c2'}, 'e3': {'obj_type': 'edge', 'id': 'e3', 'row': '1', 'col': '0', 'fields': {'l0': 'f1', 'l1': 'f4'}, 'leftField': 'None', 'rightField': 'None', 'topField': 'f1', 'bottomField': 'f4', 'crossField': 'None', 'corners': {'l0': 'c3', 'l1': 'c2'}, 'startNode': 'c3', 'endNode': 'c2'}, 'e4': {'obj_type': 'edge', 'id': 'e4', 'row': '0', 'col': '0', 'fields': {'l0': 'f1', 'l1': 'None'}, 'leftField': 'None', 'rightField': 'f1', 'topField': 'None', 'bottomField': 'None', 'crossField': 'None', 'corners': {'l0': 'c4', 'l1': 'c3'}, 'startNode': 'c4', 'endNode': 'c3'}, 'e5': {'obj_type': 'edge', 'id': 'e5', 'row': '0', 'col': '1', 'fields': {'l0': 'None', 'l1': 'f2'}, 'leftField': 'None', 'rightField': 'None', 'topField': 'None', 'bottomField': 'f2', 'crossField': 'None', 'corners': {'l0': 'c1', 'l1': 'c5'}, 'startNode': 'c1', 'endNode': 'c5'}, 'e6': {'obj_type': 'edge', 'id': 'e6', 'row': '0', 'col': '2', 'fields': {'l0': 'f3', 'l1': 'f2'}, 'leftField': 'f2', 'rightField': 'f3', 'topField': 'None', 'bottomField': 'None', 'crossField': 'None', 'corners': {'l0': 'c5', 'l1': 'c6'}, 'startNode': 'c5', 'endNode': 'c6'}, 'e7': {'obj_type': 'edge', 'id': 'e7', 'row': '1', 'col': '1', 'fields': {'l0': 'f2', 'l1': 'f5'}, 'leftField': 'None', 'rightField': 'None', 'topField': 'f2', 'bottomField': 'f5', 'crossField': 'None', 'corners': {'l0': 'c2', 'l1': 'c6'}, 'startNode': 'c2', 'endNode': 'c6'}, 'e8': {'obj_type': 'edge', 'id': 'e8', 'row': '0', 'col': '2', 'fields': {'l0': 'None', 'l1': 'f3'}, 'leftField': 'None', 'rightField': 'None', 'topField': 'None', 'bottomField': 'f3', 'crossField': 'None', 'corners': {'l0': 'c5', 'l1': 'c7'}, 'startNode': 'c5', 'endNode': 'c7'}, 'e9': {'obj_type': 'edge', 'id': 'e9', 'row': '0', 'col': '3', 'fields': {'l0': 'None', 'l1': 'f3'}, 'leftField': 'f3', 'rightField': 'None', 'topField': 'None', 'bottomField': 'None', 'crossField': 'None', 'corners': {'l0': 'c7', 'l1': 'c8'}, 'startNode': 'c7', 'endNode': 'c8'}, 'e10': {'obj_type': 'edge', 'id': 'e10', 'row': '1', 'col': '2', 'fields': {'l0': 'f3', 'l1': 'f6'}, 'leftField': 'None', 'rightField': 'None', 'topField': 'f3', 'bottomField': 'f6', 'crossField': 'None', 'corners': {'l0': 'c6', 'l1': 'c8'}, 'startNode': 'c6', 'endNode': 'c8'}, 'e11': {'obj_type': 'edge', 'id': 'e11', 'row': '1', 'col': '1', 'fields': {'l0': 'f5', 'l1': 'f4'}, 'leftField': 'f4', 'rightField': 'f5', 'topField': 'None', 'bottomField': 'None', 'crossField': 'None', 'corners': {'l0': 'c2', 'l1': 'c9'}, 'startNode': 'c2', 'endNode': 'c9'}, 'e12': {'obj_type': 'edge', 'id': 'e12', 'row': '2', 'col': '0', 'fields': {'l0': 'f4', 'l1': 'f7'}, 'leftField': 'None', 'rightField': 'None', 'topField': 'f4', 'bottomField': 'f7', 'crossField': 'None', 'corners': {'l0': 'c10', 'l1': 'c9'}, 'startNode': 'c10', 'endNode': 'c9'}, 'e13': {'obj_type': 'edge', 'id': 'e13', 'row': '1', 'col': '0', 'fields': {'l0': 'f4', 'l1': 'None'}, 'leftField': 'None', 'rightField': 'f4', 'topField': 'None', 'bottomField': 'None', 'crossField': 'None', 'corners': {'l0': 'c3', 'l1': 'c10'}, 'startNode': 'c3', 'endNode': 'c10'}, 'e14': {'obj_type': 'edge', 'id': 'e14', 'row': '1', 'col': '2', 'fields': {'l0': 'f6', 'l1': 'f5'}, 'leftField': 'f5', 'rightField': 'f6', 'topField': 'None', 'bottomField': 'None', 'crossField': 'None', 'corners': {'l0': 'c6', 'l1': 'c11'}, 'startNode': 'c6', 'endNode': 'c11'}, 'e15': {'obj_type': 'edge', 'id': 'e15', 'row': '2', 'col': '1', 'fields': {'l0': 'f5', 'l1': 'f8'}, 'leftField': 'None', 'rightField': 'None', 'topField': 'f5', 'bottomField': 'f8', 'crossField': 'None', 'corners': {'l0': 'c9', 'l1': 'c11'}, 'startNode': 'c9', 'endNode': 'c11'}, 'e16': {'obj_type': 'edge', 'id': 'e16', 'row': '1', 'col': '3', 'fields': {'l0': 'None', 'l1': 'f6'}, 'leftField': 'f6', 'rightField': 'None', 'topField': 'None', 'bottomField': 'None', 'crossField': 'None', 'corners': {'l0': 'c8', 'l1': 'c12'}, 'startNode': 'c8', 'endNode': 'c12'}, 'e17': {'obj_type': 'edge', 'id': 'e17', 'row': '2', 'col': '2', 'fields': {'l0': 'f6', 'l1': 'f9'}, 'leftField': 'None', 'rightField': 'None', 'topField': 'f6', 'bottomField': 'f9', 'crossField': 'None', 'corners': {'l0': 'c11', 'l1': 'c12'}, 'startNode': 'c11', 'endNode': 'c12'}, 'e18': {'obj_type': 'edge', 'id': 'e18', 'row': '2', 'col': '1', 'fields': {'l0': 'f8', 'l1': 'f7'}, 'leftField': 'f7', 'rightField': 'f8', 'topField': 'None', 'bottomField': 'None', 'crossField': 'None', 'corners': {'l0': 'c9', 'l1': 'c13'}, 'startNode': 'c9', 'endNode': 'c13'}, 'e19': {'obj_type': 'edge', 'id': 'e19', 'row': '3', 'col': '0', 'fields': {'l0': 'f7', 'l1': 'None'}, 'leftField': 'None', 'rightField': 'None', 'topField': 'f7', 'bottomField': 'None', 'crossField': 'None', 'corners': {'l0': 'c14', 'l1': 'c13'}, 'startNode': 'c14', 'endNode': 'c13'}, 'e20': {'obj_type': 'edge', 'id': 'e20', 'row': '2', 'col': '0', 'fields': {'l0': 'f7', 'l1': 'None'}, 'leftField': 'None', 'rightField': 'f7', 'topField': 'None', 'bottomField': 'None', 'crossField': 'None', 'corners': {'l0': 'c10', 'l1': 'c14'}, 'startNode': 'c10', 'endNode': 'c14'}, 'e21': {'obj_type': 'edge', 'id': 'e21', 'row': '2', 'col': '2', 'fields': {'l0': 'f9', 'l1': 'f8'}, 'leftField': 'f8', 'rightField': 'f9', 'topField': 'None', 'bottomField': 'None', 'crossField': 'None', 'corners': {'l0': 'c11', 'l1': 'c15'}, 'startNode': 'c11', 'endNode': 'c15'}, 'e22': {'obj_type': 'edge', 'id': 'e22', 'row': '3', 'col': '1', 'fields': {'l0': 'f8', 'l1': 'None'}, 'leftField': 'None', 'rightField': 'None', 'topField': 'f8', 'bottomField': 'None', 'crossField': 'None', 'corners': {'l0': 'c13', 'l1': 'c15'}, 'startNode': 'c13', 'endNode': 'c15'}, 'e23': {'obj_type': 'edge', 'id': 'e23', 'row': '2', 'col': '3', 'fields': {'l0': 'None', 'l1': 'f9'}, 'leftField': 'f9', 'rightField': 'None', 'topField': 'None', 'bottomField': 'None', 'crossField': 'None', 'corners': {'l0': 'c12', 'l1': 'c16'}, 'startNode': 'c12', 'endNode': 'c16'}, 'e24': {'obj_type': 'edge', 'id': 'e24', 'row': '3', 'col': '2', 'fields': {'l0': 'f9', 'l1': 'None'}, 'leftField': 'None', 'rightField': 'None', 'topField': 'f9', 'bottomField': 'None', 'crossField': 'None', 'corners': {'l0': 'c15', 'l1': 'c16'}, 'startNode': 'c15', 'endNode': 'c16'}}, 'obj_type': 'quadgrid', 'id': 'o1', 'topcols': '3', 'colarr': {'l0': '3', 'l1': '3', 'l2': '3'}, 'maxcols': '3', 'rows': '3', 'cols': '3', 'fields': {'l0': 'f1', 'l1': 'f2', 'l2': 'f3', 'l3': 'f4', 'l4': 'f5', 'l5': 'f6', 'l6': 'f7', 'l7': 'f8', 'l8': 'f9'}, 'corners': {'l0': 'c1', 'l1': 'c2', 'l2': 'c3', 'l3': 'c4', 'l4': 'c5', 'l5': 'c6', 'l6': 'c7', 'l7': 'c8', 'l8': 'c9', 'l9': 'c10', 'l10': 'c11', 'l11': 'c12', 'l12': 'c13', 'l13': 'c14', 'l14': 'c15', 'l15': 'c16'}, 'edges': {'l0': 'e1', 'l1': 'e2', 'l2': 'e3', 'l3': 'e4', 'l4': 'e5', 'l5': 'e6', 'l6': 'e7', 'l7': 'e8', 'l8': 'e9', 'l9': 'e10', 'l10': 'e11', 'l11': 'e12', 'l12': 'e13', 'l13': 'e14', 'l14': 'e15', 'l15': 'e16', 'l16': 'e17', 'l17': 'e18', 'l18': 'e19', 'l19': 'e20', 'l20': 'e21', 'l21': 'e22', 'l22': 'e23', 'l23': 'e24'}}))\n\t\t});\n\t\t"
     },
     "metadata": {},
     "output_type": "display_data"
    }
   ],
   "source": [
    "viz.render_dict(G)"
   ]
  },
  {
   "cell_type": "code",
   "execution_count": 13,
   "metadata": {},
   "outputs": [
    {
     "ename": "ValueError",
     "evalue": "invalid literal for int() with base 10: ''",
     "output_type": "error",
     "traceback": [
      "\u001b[0;31m---------------------------------------------------------------------------\u001b[0m",
      "\u001b[0;31mValueError\u001b[0m                                Traceback (most recent call last)",
      "\u001b[0;32m<ipython-input-13-e4f84bb32d50>\u001b[0m in \u001b[0;36m<module>\u001b[0;34m()\u001b[0m\n\u001b[0;32m----> 1\u001b[0;31m \u001b[0mint\u001b[0m\u001b[0;34m(\u001b[0m\u001b[0;34m''\u001b[0m\u001b[0;34m)\u001b[0m\u001b[0;34m\u001b[0m\u001b[0;34m\u001b[0m\u001b[0m\n\u001b[0m",
      "\u001b[0;31mValueError\u001b[0m: invalid literal for int() with base 10: ''"
     ]
    }
   ],
   "source": [
    "int('')"
   ]
  },
  {
   "cell_type": "code",
   "execution_count": 11,
   "metadata": {
    "collapsed": true
   },
   "outputs": [],
   "source": [
    "gen = random.Random(1)"
   ]
  },
  {
   "cell_type": "code",
   "execution_count": 12,
   "metadata": {},
   "outputs": [
    {
     "data": {
      "text/plain": [
       "0.8474337369372327"
      ]
     },
     "execution_count": 12,
     "metadata": {},
     "output_type": "execute_result"
    }
   ],
   "source": [
    "gen.random()\n",
    "gen.random()"
   ]
  },
  {
   "cell_type": "code",
   "execution_count": 13,
   "metadata": {},
   "outputs": [
    {
     "name": "stderr",
     "output_type": "stream",
     "text": [
      "[autoreload of gsm.util failed: Traceback (most recent call last):\n",
      "  File \"/home/fleeb/anaconda3/lib/python3.7/site-packages/IPython/extensions/autoreload.py\", line 245, in check\n",
      "    superreload(m, reload, self.old_objects)\n",
      "  File \"/home/fleeb/anaconda3/lib/python3.7/site-packages/IPython/extensions/autoreload.py\", line 368, in superreload\n",
      "    module = reload(module)\n",
      "  File \"/home/fleeb/anaconda3/lib/python3.7/imp.py\", line 314, in reload\n",
      "    return importlib.reload(module)\n",
      "  File \"/home/fleeb/anaconda3/lib/python3.7/importlib/__init__.py\", line 160, in reload\n",
      "    name=parent_name) from None\n",
      "ImportError: parent 'gsm' not in sys.modules\n",
      "]\n"
     ]
    },
    {
     "data": {
      "text/plain": [
       "0.763774618976614"
      ]
     },
     "execution_count": 13,
     "metadata": {},
     "output_type": "execute_result"
    }
   ],
   "source": [
    "g1 = random.Random()\n",
    "g1.setstate(gen.getstate())\n",
    "g1.random()"
   ]
  },
  {
   "cell_type": "code",
   "execution_count": 80,
   "metadata": {},
   "outputs": [
    {
     "data": {
      "text/plain": [
       "'0x81f9c1f66c0f3459'"
      ]
     },
     "execution_count": 80,
     "metadata": {},
     "output_type": "execute_result"
    }
   ],
   "source": [
    "hex(gen.getrandbits(64))"
   ]
  },
  {
   "cell_type": "code",
   "execution_count": 19,
   "metadata": {},
   "outputs": [
    {
     "name": "stderr",
     "output_type": "stream",
     "text": [
      "[autoreload of gsm.util failed: Traceback (most recent call last):\n",
      "  File \"/home/fleeb/anaconda3/lib/python3.7/site-packages/IPython/extensions/autoreload.py\", line 245, in check\n",
      "    superreload(m, reload, self.old_objects)\n",
      "  File \"/home/fleeb/anaconda3/lib/python3.7/site-packages/IPython/extensions/autoreload.py\", line 368, in superreload\n",
      "    module = reload(module)\n",
      "  File \"/home/fleeb/anaconda3/lib/python3.7/imp.py\", line 314, in reload\n",
      "    return importlib.reload(module)\n",
      "  File \"/home/fleeb/anaconda3/lib/python3.7/importlib/__init__.py\", line 160, in reload\n",
      "    name=parent_name) from None\n",
      "ImportError: parent 'gsm' not in sys.modules\n",
      "]\n"
     ]
    },
    {
     "ename": "AttributeError",
     "evalue": "'Random' object has no attribute '_shadow'",
     "output_type": "error",
     "traceback": [
      "\u001b[0;31m---------------------------------------------------------------------------\u001b[0m",
      "\u001b[0;31mAttributeError\u001b[0m                            Traceback (most recent call last)",
      "\u001b[0;32m<ipython-input-19-f1f874135406>\u001b[0m in \u001b[0;36m<module>\u001b[0;34m()\u001b[0m\n\u001b[0;32m----> 1\u001b[0;31m \u001b[0mgen\u001b[0m\u001b[0;34m.\u001b[0m\u001b[0m_shadow\u001b[0m\u001b[0;34m\u001b[0m\u001b[0;34m\u001b[0m\u001b[0m\n\u001b[0m",
      "\u001b[0;31mAttributeError\u001b[0m: 'Random' object has no attribute '_shadow'"
     ]
    }
   ],
   "source": [
    "gen._shadow"
   ]
  },
  {
   "cell_type": "code",
   "execution_count": 14,
   "metadata": {},
   "outputs": [
    {
     "data": {
      "text/plain": [
       "0.763774618976614"
      ]
     },
     "execution_count": 14,
     "metadata": {},
     "output_type": "execute_result"
    }
   ],
   "source": [
    "gen.random()"
   ]
  },
  {
   "cell_type": "code",
   "execution_count": 7,
   "metadata": {},
   "outputs": [
    {
     "data": {
      "text/plain": [
       "0.8474337369372327"
      ]
     },
     "execution_count": 7,
     "metadata": {},
     "output_type": "execute_result"
    }
   ],
   "source": [
    "gen.random()"
   ]
  },
  {
   "cell_type": "code",
   "execution_count": 15,
   "metadata": {},
   "outputs": [
    {
     "name": "stderr",
     "output_type": "stream",
     "text": [
      "[autoreload of gsm.util failed: Traceback (most recent call last):\n",
      "  File \"/home/fleeb/anaconda3/lib/python3.7/site-packages/IPython/extensions/autoreload.py\", line 245, in check\n",
      "    superreload(m, reload, self.old_objects)\n",
      "  File \"/home/fleeb/anaconda3/lib/python3.7/site-packages/IPython/extensions/autoreload.py\", line 368, in superreload\n",
      "    module = reload(module)\n",
      "  File \"/home/fleeb/anaconda3/lib/python3.7/imp.py\", line 314, in reload\n",
      "    return importlib.reload(module)\n",
      "  File \"/home/fleeb/anaconda3/lib/python3.7/importlib/__init__.py\", line 160, in reload\n",
      "    name=parent_name) from None\n",
      "ImportError: parent 'gsm' not in sys.modules\n",
      "]\n"
     ]
    },
    {
     "data": {
      "text/plain": [
       "(3,\n",
       " (2145931878,\n",
       "  2812664348,\n",
       "  2124062512,\n",
       "  3757238068,\n",
       "  2453315318,\n",
       "  1634707757,\n",
       "  1382563816,\n",
       "  2097433739,\n",
       "  311746133,\n",
       "  2032626074,\n",
       "  2617776101,\n",
       "  1877538630,\n",
       "  1158287594,\n",
       "  1111761113,\n",
       "  650853131,\n",
       "  3869983018,\n",
       "  2622923993,\n",
       "  3845947563,\n",
       "  4034124803,\n",
       "  3529923841,\n",
       "  263419425,\n",
       "  988778765,\n",
       "  459585442,\n",
       "  250000960,\n",
       "  2862328889,\n",
       "  3831024473,\n",
       "  376081109,\n",
       "  3160276335,\n",
       "  2681558278,\n",
       "  3610562257,\n",
       "  3737464566,\n",
       "  4277502420,\n",
       "  810823568,\n",
       "  1660136801,\n",
       "  3616377324,\n",
       "  3405043087,\n",
       "  312580666,\n",
       "  3533264489,\n",
       "  1350493301,\n",
       "  2122280547,\n",
       "  3694157202,\n",
       "  4101260871,\n",
       "  334760505,\n",
       "  1001399085,\n",
       "  4032193053,\n",
       "  635051900,\n",
       "  1014848001,\n",
       "  77323629,\n",
       "  1070905620,\n",
       "  4245065876,\n",
       "  197191146,\n",
       "  2668164234,\n",
       "  2624765451,\n",
       "  3263880227,\n",
       "  1253021119,\n",
       "  780557860,\n",
       "  3494191106,\n",
       "  1888043228,\n",
       "  2730480597,\n",
       "  2457734185,\n",
       "  533240640,\n",
       "  3054437375,\n",
       "  2913464164,\n",
       "  1357763286,\n",
       "  1045027602,\n",
       "  1724499345,\n",
       "  3008672616,\n",
       "  3438668475,\n",
       "  3323437141,\n",
       "  2773702905,\n",
       "  747342820,\n",
       "  346050065,\n",
       "  2381318917,\n",
       "  2928624060,\n",
       "  3817839784,\n",
       "  802250010,\n",
       "  2271060476,\n",
       "  1303931860,\n",
       "  1637065750,\n",
       "  452736219,\n",
       "  1148317707,\n",
       "  2293975124,\n",
       "  1759645173,\n",
       "  1550558780,\n",
       "  3345762501,\n",
       "  1608452836,\n",
       "  2598279791,\n",
       "  3660910759,\n",
       "  978982086,\n",
       "  4120101375,\n",
       "  3894792265,\n",
       "  2823378193,\n",
       "  934829337,\n",
       "  4286897875,\n",
       "  4002609413,\n",
       "  4246864328,\n",
       "  1324405512,\n",
       "  279562789,\n",
       "  3043357970,\n",
       "  3228171372,\n",
       "  2258574612,\n",
       "  406825161,\n",
       "  1388938891,\n",
       "  1964036799,\n",
       "  1803893273,\n",
       "  4119105266,\n",
       "  4040973308,\n",
       "  2846817613,\n",
       "  1069387937,\n",
       "  410354976,\n",
       "  1831161730,\n",
       "  1377379312,\n",
       "  3275937080,\n",
       "  1785820974,\n",
       "  2746243425,\n",
       "  943998045,\n",
       "  388790751,\n",
       "  3234299277,\n",
       "  1458745124,\n",
       "  4273819277,\n",
       "  3014921995,\n",
       "  932388939,\n",
       "  494247651,\n",
       "  3089207579,\n",
       "  32910364,\n",
       "  1720974976,\n",
       "  2769802043,\n",
       "  4016334306,\n",
       "  2247766834,\n",
       "  3414149001,\n",
       "  2454052410,\n",
       "  700926996,\n",
       "  501327659,\n",
       "  3168332128,\n",
       "  3664981204,\n",
       "  2837401143,\n",
       "  301098975,\n",
       "  3520268638,\n",
       "  1390827609,\n",
       "  341186989,\n",
       "  941589979,\n",
       "  1710246063,\n",
       "  43416237,\n",
       "  1302636405,\n",
       "  3868932099,\n",
       "  2924349096,\n",
       "  3324782012,\n",
       "  3799410212,\n",
       "  4102741388,\n",
       "  31863226,\n",
       "  2111384030,\n",
       "  3113879245,\n",
       "  270856142,\n",
       "  2994106877,\n",
       "  642831667,\n",
       "  3306439346,\n",
       "  1408809959,\n",
       "  3978918894,\n",
       "  3422047912,\n",
       "  239974707,\n",
       "  1550642032,\n",
       "  2043847969,\n",
       "  3027673654,\n",
       "  2529047530,\n",
       "  3070308428,\n",
       "  4054575122,\n",
       "  3400858435,\n",
       "  3272761741,\n",
       "  1475089226,\n",
       "  3147811930,\n",
       "  386952169,\n",
       "  3319901201,\n",
       "  732520351,\n",
       "  1317005210,\n",
       "  790631883,\n",
       "  3220337686,\n",
       "  4139120751,\n",
       "  2658777157,\n",
       "  3086988428,\n",
       "  1793254639,\n",
       "  2750911286,\n",
       "  3653955340,\n",
       "  452165491,\n",
       "  1605816595,\n",
       "  203032188,\n",
       "  3612712556,\n",
       "  3824620473,\n",
       "  3076469577,\n",
       "  867345620,\n",
       "  158571227,\n",
       "  1927009577,\n",
       "  106535911,\n",
       "  579058007,\n",
       "  115010199,\n",
       "  2358886172,\n",
       "  247889382,\n",
       "  2506598836,\n",
       "  3983367197,\n",
       "  1580571821,\n",
       "  2665295034,\n",
       "  2683285595,\n",
       "  3738351894,\n",
       "  594605564,\n",
       "  4098727176,\n",
       "  774035931,\n",
       "  2537418448,\n",
       "  4158003969,\n",
       "  1535576236,\n",
       "  572209529,\n",
       "  842702075,\n",
       "  3778032710,\n",
       "  2783384848,\n",
       "  2200217090,\n",
       "  2794415814,\n",
       "  311739062,\n",
       "  3969800442,\n",
       "  1247200684,\n",
       "  1433159463,\n",
       "  2179685797,\n",
       "  4175775678,\n",
       "  3654853992,\n",
       "  3896011302,\n",
       "  4061611257,\n",
       "  2626140823,\n",
       "  3103130952,\n",
       "  3930139487,\n",
       "  254052748,\n",
       "  3855707803,\n",
       "  4196974555,\n",
       "  1060884119,\n",
       "  370921039,\n",
       "  1369695587,\n",
       "  3476738923,\n",
       "  2162894901,\n",
       "  4206583013,\n",
       "  2395981551,\n",
       "  255940678,\n",
       "  3708995520,\n",
       "  3392486002,\n",
       "  2689507313,\n",
       "  752695856,\n",
       "  125947260,\n",
       "  467246764,\n",
       "  40871673,\n",
       "  3043356200,\n",
       "  200152678,\n",
       "  2085165538,\n",
       "  3794697076,\n",
       "  3939684254,\n",
       "  1037585914,\n",
       "  102277793,\n",
       "  2637200524,\n",
       "  3627750205,\n",
       "  380912797,\n",
       "  665055749,\n",
       "  392498022,\n",
       "  2996789283,\n",
       "  1318254951,\n",
       "  316222422,\n",
       "  1961777278,\n",
       "  3679659174,\n",
       "  1113345985,\n",
       "  1938416582,\n",
       "  157033001,\n",
       "  1060150735,\n",
       "  2928427570,\n",
       "  3031880670,\n",
       "  1249659479,\n",
       "  2103732829,\n",
       "  1662315153,\n",
       "  224134794,\n",
       "  1666358220,\n",
       "  3491691947,\n",
       "  2994204234,\n",
       "  3329478809,\n",
       "  450393053,\n",
       "  2475722664,\n",
       "  3882254920,\n",
       "  1963172877,\n",
       "  1595157620,\n",
       "  3822895224,\n",
       "  219949288,\n",
       "  3264033175,\n",
       "  1768824945,\n",
       "  3394654527,\n",
       "  813157357,\n",
       "  2652542294,\n",
       "  2960758170,\n",
       "  2006940009,\n",
       "  417447429,\n",
       "  2718236352,\n",
       "  2306344607,\n",
       "  3825472333,\n",
       "  652682110,\n",
       "  3646396725,\n",
       "  4178601215,\n",
       "  4182934660,\n",
       "  172883031,\n",
       "  2673609519,\n",
       "  2246646249,\n",
       "  909411501,\n",
       "  2850241054,\n",
       "  4285343988,\n",
       "  1592910492,\n",
       "  1859326953,\n",
       "  155590330,\n",
       "  3825048667,\n",
       "  3150087862,\n",
       "  4015479494,\n",
       "  1261845165,\n",
       "  3080033638,\n",
       "  2814764156,\n",
       "  3605663608,\n",
       "  2619617803,\n",
       "  1255448837,\n",
       "  1340967525,\n",
       "  2863030729,\n",
       "  1623023707,\n",
       "  3021485081,\n",
       "  2294903856,\n",
       "  4079437409,\n",
       "  3401442104,\n",
       "  4150346880,\n",
       "  905975971,\n",
       "  2264911473,\n",
       "  2661393375,\n",
       "  1911345740,\n",
       "  3800820143,\n",
       "  4045562039,\n",
       "  2558483597,\n",
       "  1459757714,\n",
       "  118106860,\n",
       "  1165858281,\n",
       "  3057048982,\n",
       "  1457598026,\n",
       "  197563863,\n",
       "  3482681317,\n",
       "  1713976572,\n",
       "  1704580147,\n",
       "  1345230193,\n",
       "  960599348,\n",
       "  2434153067,\n",
       "  3986217646,\n",
       "  2562071497,\n",
       "  4277326293,\n",
       "  2288804618,\n",
       "  2373075337,\n",
       "  4026907498,\n",
       "  559399088,\n",
       "  3994811970,\n",
       "  1748246240,\n",
       "  687909573,\n",
       "  2656541313,\n",
       "  172839962,\n",
       "  1174986454,\n",
       "  4123080855,\n",
       "  2239769691,\n",
       "  222356582,\n",
       "  4076456083,\n",
       "  446958688,\n",
       "  842651752,\n",
       "  3561944614,\n",
       "  3880131068,\n",
       "  3433903804,\n",
       "  3507559252,\n",
       "  1012782172,\n",
       "  2558770155,\n",
       "  2772515112,\n",
       "  4025245999,\n",
       "  3248494244,\n",
       "  1779144398,\n",
       "  3395778014,\n",
       "  2734475333,\n",
       "  695844093,\n",
       "  1290330662,\n",
       "  1348668716,\n",
       "  1169819265,\n",
       "  796648845,\n",
       "  1416586549,\n",
       "  1522242969,\n",
       "  2981687293,\n",
       "  1468877895,\n",
       "  1627160527,\n",
       "  3666017126,\n",
       "  1084527681,\n",
       "  2601809345,\n",
       "  72723237,\n",
       "  1387085801,\n",
       "  334999804,\n",
       "  1564694271,\n",
       "  3733856209,\n",
       "  681963346,\n",
       "  3489909748,\n",
       "  949258174,\n",
       "  2928118053,\n",
       "  3863991536,\n",
       "  3860593327,\n",
       "  371432064,\n",
       "  2575555142,\n",
       "  426115244,\n",
       "  2954856811,\n",
       "  738028837,\n",
       "  2664775487,\n",
       "  2540462133,\n",
       "  1322574653,\n",
       "  2440615834,\n",
       "  1338114700,\n",
       "  3445183261,\n",
       "  2821723677,\n",
       "  2272860399,\n",
       "  885803491,\n",
       "  634144735,\n",
       "  3275178777,\n",
       "  83733744,\n",
       "  1593352389,\n",
       "  4046246413,\n",
       "  877273755,\n",
       "  683929789,\n",
       "  790672351,\n",
       "  2430706559,\n",
       "  570506740,\n",
       "  2669651553,\n",
       "  209071247,\n",
       "  3739791889,\n",
       "  472530666,\n",
       "  2981037569,\n",
       "  40670990,\n",
       "  4292910015,\n",
       "  3195102466,\n",
       "  1086142594,\n",
       "  401531731,\n",
       "  1619377167,\n",
       "  4284349834,\n",
       "  1834858583,\n",
       "  1172361590,\n",
       "  2976206011,\n",
       "  2415996136,\n",
       "  1956409217,\n",
       "  1033358882,\n",
       "  1370606489,\n",
       "  1598039538,\n",
       "  96830232,\n",
       "  3131853462,\n",
       "  3069309981,\n",
       "  1400793433,\n",
       "  534873231,\n",
       "  2935522266,\n",
       "  4083954307,\n",
       "  1846596282,\n",
       "  4275881991,\n",
       "  773909968,\n",
       "  1619496540,\n",
       "  4241071846,\n",
       "  3009854081,\n",
       "  1952112440,\n",
       "  2909601846,\n",
       "  916094182,\n",
       "  2826710343,\n",
       "  1495955125,\n",
       "  121231768,\n",
       "  3642376035,\n",
       "  682139425,\n",
       "  3628442591,\n",
       "  2908496930,\n",
       "  3520543028,\n",
       "  316238059,\n",
       "  476986715,\n",
       "  636297407,\n",
       "  849499740,\n",
       "  395347414,\n",
       "  3517436195,\n",
       "  1849992417,\n",
       "  1944041972,\n",
       "  3425230772,\n",
       "  2095805479,\n",
       "  2198266975,\n",
       "  4279057091,\n",
       "  35576657,\n",
       "  1423952153,\n",
       "  1582221890,\n",
       "  1042550686,\n",
       "  288566674,\n",
       "  762411014,\n",
       "  2694392405,\n",
       "  1269447923,\n",
       "  586416626,\n",
       "  4169660375,\n",
       "  795857783,\n",
       "  2933865700,\n",
       "  3947261096,\n",
       "  3801443464,\n",
       "  628738126,\n",
       "  1127394996,\n",
       "  2004091842,\n",
       "  65609766,\n",
       "  277434259,\n",
       "  2255879117,\n",
       "  3438791353,\n",
       "  1220614401,\n",
       "  2159381984,\n",
       "  1479433625,\n",
       "  4231169481,\n",
       "  3311733975,\n",
       "  3382481877,\n",
       "  3880121300,\n",
       "  3862497039,\n",
       "  3645340820,\n",
       "  4129470912,\n",
       "  2143211840,\n",
       "  180169020,\n",
       "  2915321296,\n",
       "  3013760655,\n",
       "  319458457,\n",
       "  1666519955,\n",
       "  1072488057,\n",
       "  4119017956,\n",
       "  3065963998,\n",
       "  3156524904,\n",
       "  1548959907,\n",
       "  1267883695,\n",
       "  2858827881,\n",
       "  2625989395,\n",
       "  3338785263,\n",
       "  1691602716,\n",
       "  2126211298,\n",
       "  4007673737,\n",
       "  4186027339,\n",
       "  3846281941,\n",
       "  70982851,\n",
       "  263837795,\n",
       "  659126827,\n",
       "  2980846218,\n",
       "  192284478,\n",
       "  3080459272,\n",
       "  4105006353,\n",
       "  1224966312,\n",
       "  1667467732,\n",
       "  4192844552,\n",
       "  2947345608,\n",
       "  1312721267,\n",
       "  995387948,\n",
       "  279230837,\n",
       "  413447447,\n",
       "  3793770271,\n",
       "  39507081,\n",
       "  821660310,\n",
       "  1794005643,\n",
       "  35589677,\n",
       "  164333017,\n",
       "  1880971233,\n",
       "  3535746068,\n",
       "  1091601157,\n",
       "  4272598904,\n",
       "  3030179358,\n",
       "  1207804127,\n",
       "  4246440144,\n",
       "  44060734,\n",
       "  707622306,\n",
       "  3535335353,\n",
       "  1109926354,\n",
       "  1478596677,\n",
       "  1288794273,\n",
       "  1480163940,\n",
       "  46632306,\n",
       "  1024263904,\n",
       "  3525603704,\n",
       "  1158005009,\n",
       "  3704447404,\n",
       "  4207129671,\n",
       "  3162795188,\n",
       "  1764109563,\n",
       "  1915386681,\n",
       "  3562005320,\n",
       "  837276014,\n",
       "  887012411,\n",
       "  1646982126,\n",
       "  3997694881,\n",
       "  1003924412,\n",
       "  606949730,\n",
       "  3028470314,\n",
       "  703448649,\n",
       "  1878850504,\n",
       "  2180010676,\n",
       "  3610946004,\n",
       "  1578597952,\n",
       "  2383086216,\n",
       "  3262442230,\n",
       "  270896879,\n",
       "  3760345043,\n",
       "  3673647483,\n",
       "  3194484015,\n",
       "  815370489,\n",
       "  3180391826,\n",
       "  4108166383,\n",
       "  1424301908,\n",
       "  1634817111,\n",
       "  2112933683,\n",
       "  4176915707,\n",
       "  3070150981,\n",
       "  3653757342,\n",
       "  168271118,\n",
       "  1169894375,\n",
       "  1320356651,\n",
       "  1768323237,\n",
       "  1157127152,\n",
       "  3438525973,\n",
       "  2396010740,\n",
       "  4040288261,\n",
       "  623910253,\n",
       "  1716641262,\n",
       "  631969644,\n",
       "  552213659,\n",
       "  667069678,\n",
       "  2235286461,\n",
       "  2693025350,\n",
       "  1460659877,\n",
       "  251530665,\n",
       "  3924798194,\n",
       "  1358308953,\n",
       "  433843275,\n",
       "  1936266853,\n",
       "  747480833,\n",
       "  3545787415,\n",
       "  3656373148,\n",
       "  6),\n",
       " None)"
      ]
     },
     "execution_count": 15,
     "metadata": {},
     "output_type": "execute_result"
    }
   ],
   "source": [
    "gen.getstate()"
   ]
  },
  {
   "cell_type": "code",
   "execution_count": 2,
   "metadata": {},
   "outputs": [
    {
     "data": {
      "text/plain": [
       "array([-0.34398902, -0.84450839, -1.56259909])"
      ]
     },
     "execution_count": 2,
     "metadata": {},
     "output_type": "execute_result"
    }
   ],
   "source": [
    "x = np.random.randn(3)\n",
    "x"
   ]
  },
  {
   "cell_type": "code",
   "execution_count": 3,
   "metadata": {
    "collapsed": true
   },
   "outputs": [],
   "source": [
    "# Savable._Savable__subclasses.keys()"
   ]
  },
  {
   "cell_type": "code",
   "execution_count": 4,
   "metadata": {
    "scrolled": true
   },
   "outputs": [
    {
     "name": "stdout",
     "output_type": "stream",
     "text": [
      "__class__\n",
      "callable <class 'numpy.ndarray'>\n",
      "__class__\n",
      "callable <class 'numpy.ndarray'>\n",
      "_ipython_canary_method_should_not_exist_\n",
      "_ipython_display_\n",
      "__class__\n",
      "callable <class 'numpy.ndarray'>\n",
      "__class__\n",
      "callable <class 'numpy.ndarray'>\n",
      "_ipython_canary_method_should_not_exist_\n",
      "_repr_mimebundle_\n",
      "__class__\n",
      "callable <class 'numpy.ndarray'>\n",
      "__class__\n",
      "callable <class 'numpy.ndarray'>\n",
      "__wrapped__\n",
      "__class__\n",
      "callable <class 'numpy.ndarray'>\n",
      "__class__\n",
      "callable <class 'numpy.ndarray'>\n",
      "_ipython_canary_method_should_not_exist_\n",
      "_repr_html_\n",
      "__class__\n",
      "callable <class 'numpy.ndarray'>\n",
      "__class__\n",
      "callable <class 'numpy.ndarray'>\n",
      "_ipython_canary_method_should_not_exist_\n",
      "_repr_markdown_\n",
      "__class__\n",
      "callable <class 'numpy.ndarray'>\n",
      "__class__\n",
      "callable <class 'numpy.ndarray'>\n",
      "_ipython_canary_method_should_not_exist_\n",
      "_repr_svg_\n",
      "__class__\n",
      "callable <class 'numpy.ndarray'>\n",
      "__class__\n",
      "callable <class 'numpy.ndarray'>\n",
      "_ipython_canary_method_should_not_exist_\n",
      "_repr_png_\n",
      "__class__\n",
      "callable <class 'numpy.ndarray'>\n",
      "__class__\n",
      "callable <class 'numpy.ndarray'>\n",
      "_ipython_canary_method_should_not_exist_\n",
      "_repr_pdf_\n",
      "__class__\n",
      "callable <class 'numpy.ndarray'>\n",
      "__class__\n",
      "callable <class 'numpy.ndarray'>\n",
      "_ipython_canary_method_should_not_exist_\n",
      "_repr_jpeg_\n",
      "__class__\n",
      "callable <class 'numpy.ndarray'>\n",
      "__class__\n",
      "callable <class 'numpy.ndarray'>\n",
      "_ipython_canary_method_should_not_exist_\n",
      "_repr_latex_\n",
      "__class__\n",
      "callable <class 'numpy.ndarray'>\n",
      "__class__\n",
      "callable <class 'numpy.ndarray'>\n",
      "_ipython_canary_method_should_not_exist_\n",
      "_repr_json_\n",
      "__class__\n",
      "callable <class 'numpy.ndarray'>\n",
      "__class__\n",
      "callable <class 'numpy.ndarray'>\n",
      "_ipython_canary_method_should_not_exist_\n",
      "_repr_javascript_\n"
     ]
    },
    {
     "data": {
      "text/plain": [
       "array([ 0.,  0.,  0.])"
      ]
     },
     "execution_count": 4,
     "metadata": {},
     "output_type": "execute_result"
    }
   ],
   "source": [
    "a = Array(np.zeros(3))\n",
    "a"
   ]
  },
  {
   "cell_type": "code",
   "execution_count": 5,
   "metadata": {},
   "outputs": [
    {
     "data": {
      "text/plain": [
       "gsm.wrappers.Array"
      ]
     },
     "execution_count": 5,
     "metadata": {},
     "output_type": "execute_result"
    }
   ],
   "source": [
    "type(a)"
   ]
  },
  {
   "cell_type": "code",
   "execution_count": 6,
   "metadata": {},
   "outputs": [
    {
     "data": {
      "text/plain": [
       "(array([ 1.,  1.,  1.]), numpy.ndarray)"
      ]
     },
     "execution_count": 6,
     "metadata": {},
     "output_type": "execute_result"
    }
   ],
   "source": [
    "b = a+1\n",
    "b, type(b)"
   ]
  },
  {
   "cell_type": "code",
   "execution_count": 11,
   "metadata": {},
   "outputs": [
    {
     "name": "stdout",
     "output_type": "stream",
     "text": [
      "__add__\n",
      "callable <method-wrapper '__add__' of Array object at 0x7fb2fa938088>\n"
     ]
    },
    {
     "data": {
      "text/plain": [
       "numpy.ndarray"
      ]
     },
     "execution_count": 11,
     "metadata": {},
     "output_type": "execute_result"
    }
   ],
   "source": [
    "type(a.__add__(1))"
   ]
  },
  {
   "cell_type": "code",
   "execution_count": 12,
   "metadata": {},
   "outputs": [
    {
     "name": "stdout",
     "output_type": "stream",
     "text": [
      "__add__\n",
      "callable <method-wrapper '__add__' of Array object at 0x7fb2fa938088>\n"
     ]
    },
    {
     "data": {
      "text/plain": [
       "method-wrapper"
      ]
     },
     "execution_count": 12,
     "metadata": {},
     "output_type": "execute_result"
    }
   ],
   "source": [
    "type(a.__add__)"
   ]
  },
  {
   "cell_type": "code",
   "execution_count": 7,
   "metadata": {},
   "outputs": [
    {
     "name": "stdout",
     "output_type": "stream",
     "text": [
      "__wrapped__\n"
     ]
    },
    {
     "data": {
      "text/plain": [
       "numpy.ndarray"
      ]
     },
     "execution_count": 7,
     "metadata": {},
     "output_type": "execute_result"
    }
   ],
   "source": [
    "type(a.__wrapped__)"
   ]
  },
  {
   "cell_type": "code",
   "execution_count": 5,
   "metadata": {},
   "outputs": [
    {
     "name": "stderr",
     "output_type": "stream",
     "text": [
      "[autoreload of gsm.wrappers failed: Traceback (most recent call last):\n",
      "  File \"/home/fleeb/anaconda3/lib/python3.6/site-packages/IPython/extensions/autoreload.py\", line 246, in check\n",
      "    superreload(m, reload, self.old_objects)\n",
      "  File \"/home/fleeb/anaconda3/lib/python3.6/site-packages/IPython/extensions/autoreload.py\", line 369, in superreload\n",
      "    module = reload(module)\n",
      "  File \"/home/fleeb/anaconda3/lib/python3.6/imp.py\", line 315, in reload\n",
      "    return importlib.reload(module)\n",
      "  File \"/home/fleeb/anaconda3/lib/python3.6/importlib/__init__.py\", line 166, in reload\n",
      "    _bootstrap._exec(spec, module)\n",
      "  File \"<frozen importlib._bootstrap>\", line 618, in _exec\n",
      "  File \"<frozen importlib._bootstrap_external>\", line 678, in exec_module\n",
      "  File \"<frozen importlib._bootstrap>\", line 219, in _call_with_frames_removed\n",
      "  File \"/mnt/c/Users/anwan/OneDrive - UW Office 365/Khan/Other/gsm/git/gsm/wrappers.py\", line 10, in <module>\n",
      "    class ObjectWrapper(ObjectProxy, Transactionable, Savable):\n",
      "  File \"/mnt/c/Users/anwan/OneDrive - UW Office 365/Khan/Other/gsm/git/gsm/mixins.py\", line 21, in __init_subclass__\n",
      "    raise SavableClassCollisionError(name, cls)\n",
      "gsm.signals.SavableClassCollisionError: A class with the address gsm.wrappers.ObjectWrapper is already in the class register of Savable\n",
      "]\n"
     ]
    },
    {
     "data": {
      "text/plain": [
       "['T',\n",
       " '__abs__',\n",
       " '__add__',\n",
       " '__and__',\n",
       " '__array__',\n",
       " '__array_finalize__',\n",
       " '__array_interface__',\n",
       " '__array_prepare__',\n",
       " '__array_priority__',\n",
       " '__array_struct__',\n",
       " '__array_ufunc__',\n",
       " '__array_wrap__',\n",
       " '__bool__',\n",
       " '__class__',\n",
       " '__complex__',\n",
       " '__contains__',\n",
       " '__copy__',\n",
       " '__deepcopy__',\n",
       " '__delattr__',\n",
       " '__delitem__',\n",
       " '__dir__',\n",
       " '__divmod__',\n",
       " '__doc__',\n",
       " '__eq__',\n",
       " '__float__',\n",
       " '__floordiv__',\n",
       " '__format__',\n",
       " '__ge__',\n",
       " '__getattribute__',\n",
       " '__getitem__',\n",
       " '__gt__',\n",
       " '__hash__',\n",
       " '__iadd__',\n",
       " '__iand__',\n",
       " '__ifloordiv__',\n",
       " '__ilshift__',\n",
       " '__imatmul__',\n",
       " '__imod__',\n",
       " '__imul__',\n",
       " '__index__',\n",
       " '__init__',\n",
       " '__init_subclass__',\n",
       " '__int__',\n",
       " '__invert__',\n",
       " '__ior__',\n",
       " '__ipow__',\n",
       " '__irshift__',\n",
       " '__isub__',\n",
       " '__iter__',\n",
       " '__itruediv__',\n",
       " '__ixor__',\n",
       " '__le__',\n",
       " '__len__',\n",
       " '__lshift__',\n",
       " '__lt__',\n",
       " '__matmul__',\n",
       " '__mod__',\n",
       " '__mul__',\n",
       " '__ne__',\n",
       " '__neg__',\n",
       " '__new__',\n",
       " '__or__',\n",
       " '__pos__',\n",
       " '__pow__',\n",
       " '__radd__',\n",
       " '__rand__',\n",
       " '__rdivmod__',\n",
       " '__reduce__',\n",
       " '__reduce_ex__',\n",
       " '__repr__',\n",
       " '__rfloordiv__',\n",
       " '__rlshift__',\n",
       " '__rmatmul__',\n",
       " '__rmod__',\n",
       " '__rmul__',\n",
       " '__ror__',\n",
       " '__rpow__',\n",
       " '__rrshift__',\n",
       " '__rshift__',\n",
       " '__rsub__',\n",
       " '__rtruediv__',\n",
       " '__rxor__',\n",
       " '__setattr__',\n",
       " '__setitem__',\n",
       " '__setstate__',\n",
       " '__sizeof__',\n",
       " '__str__',\n",
       " '__sub__',\n",
       " '__subclasshook__',\n",
       " '__truediv__',\n",
       " '__xor__',\n",
       " 'all',\n",
       " 'any',\n",
       " 'argmax',\n",
       " 'argmin',\n",
       " 'argpartition',\n",
       " 'argsort',\n",
       " 'astype',\n",
       " 'base',\n",
       " 'byteswap',\n",
       " 'choose',\n",
       " 'clip',\n",
       " 'compress',\n",
       " 'conj',\n",
       " 'conjugate',\n",
       " 'copy',\n",
       " 'ctypes',\n",
       " 'cumprod',\n",
       " 'cumsum',\n",
       " 'data',\n",
       " 'diagonal',\n",
       " 'dot',\n",
       " 'dtype',\n",
       " 'dump',\n",
       " 'dumps',\n",
       " 'fill',\n",
       " 'flags',\n",
       " 'flat',\n",
       " 'flatten',\n",
       " 'getfield',\n",
       " 'imag',\n",
       " 'item',\n",
       " 'itemset',\n",
       " 'itemsize',\n",
       " 'max',\n",
       " 'mean',\n",
       " 'min',\n",
       " 'nbytes',\n",
       " 'ndim',\n",
       " 'newbyteorder',\n",
       " 'nonzero',\n",
       " 'partition',\n",
       " 'prod',\n",
       " 'ptp',\n",
       " 'put',\n",
       " 'ravel',\n",
       " 'real',\n",
       " 'repeat',\n",
       " 'reshape',\n",
       " 'resize',\n",
       " 'round',\n",
       " 'searchsorted',\n",
       " 'setfield',\n",
       " 'setflags',\n",
       " 'shape',\n",
       " 'size',\n",
       " 'sort',\n",
       " 'squeeze',\n",
       " 'std',\n",
       " 'strides',\n",
       " 'sum',\n",
       " 'swapaxes',\n",
       " 'take',\n",
       " 'tobytes',\n",
       " 'tofile',\n",
       " 'tolist',\n",
       " 'tostring',\n",
       " 'trace',\n",
       " 'transpose',\n",
       " 'var',\n",
       " 'view']"
      ]
     },
     "execution_count": 5,
     "metadata": {},
     "output_type": "execute_result"
    }
   ],
   "source": [
    "dir(np.ndarray)"
   ]
  },
  {
   "cell_type": "code",
   "execution_count": 19,
   "metadata": {
    "collapsed": true
   },
   "outputs": [],
   "source": [
    "from wrapt import ObjectProxy\n",
    "import numpy as np\n",
    "\n",
    "class A(ObjectProxy):\n",
    "    \n",
    "    def __init__(self, a):\n",
    "        super().__init__(a)\n",
    "        \n",
    "    def __save(self):\n",
    "        print('saved')\n",
    "        \n",
    "    \n",
    "    def __load(self, a):\n",
    "        \n",
    "        super().__init__(a)\n",
    "        print('load')\n",
    "        \n",
    "    def __repr__(self):\n",
    "        return self.__wrapped__.__repr__()\n",
    "    \n",
    "    @staticmethod\n",
    "    def loadx(obj, data):\n",
    "        obj.__init__(data)\n",
    "    \n",
    "    def __getattribute__(self, item):\n",
    "        print(item)\n",
    "        return super().__getattribute__(item)"
   ]
  },
  {
   "cell_type": "code",
   "execution_count": 20,
   "metadata": {},
   "outputs": [
    {
     "name": "stdout",
     "output_type": "stream",
     "text": [
      "__class__\n",
      "__class__\n",
      "_ipython_canary_method_should_not_exist_\n",
      "_ipython_display_\n",
      "__class__\n",
      "__class__\n",
      "_ipython_canary_method_should_not_exist_\n",
      "_repr_mimebundle_\n",
      "__class__\n",
      "__class__\n",
      "__wrapped__\n",
      "__class__\n",
      "__class__\n",
      "_ipython_canary_method_should_not_exist_\n",
      "_repr_html_\n",
      "__class__\n",
      "__class__\n",
      "_ipython_canary_method_should_not_exist_\n",
      "_repr_markdown_\n",
      "__class__\n",
      "__class__\n",
      "_ipython_canary_method_should_not_exist_\n",
      "_repr_svg_\n",
      "__class__\n",
      "__class__\n",
      "_ipython_canary_method_should_not_exist_\n",
      "_repr_png_\n",
      "__class__\n",
      "__class__\n",
      "_ipython_canary_method_should_not_exist_\n",
      "_repr_pdf_\n",
      "__class__\n",
      "__class__\n",
      "_ipython_canary_method_should_not_exist_\n",
      "_repr_jpeg_\n",
      "__class__\n",
      "__class__\n",
      "_ipython_canary_method_should_not_exist_\n",
      "_repr_latex_\n",
      "__class__\n",
      "__class__\n",
      "_ipython_canary_method_should_not_exist_\n",
      "_repr_json_\n",
      "__class__\n",
      "__class__\n",
      "_ipython_canary_method_should_not_exist_\n",
      "_repr_javascript_\n"
     ]
    },
    {
     "data": {
      "text/plain": [
       "array([ 0.,  0.,  0.,  0.,  0.,  0.,  0.,  0.,  0.,  0.])"
      ]
     },
     "execution_count": 20,
     "metadata": {},
     "output_type": "execute_result"
    }
   ],
   "source": [
    "a = A(np.zeros(10))\n",
    "a"
   ]
  },
  {
   "cell_type": "code",
   "execution_count": 18,
   "metadata": {},
   "outputs": [
    {
     "name": "stdout",
     "output_type": "stream",
     "text": [
      "__load\n"
     ]
    },
    {
     "ename": "ValueError",
     "evalue": "wrapper has not been initialized",
     "output_type": "error",
     "traceback": [
      "\u001b[0;31m---------------------------------------------------------------------------\u001b[0m",
      "\u001b[0;31mValueError\u001b[0m                                Traceback (most recent call last)",
      "\u001b[0;32m<ipython-input-18-f11579c9b4dc>\u001b[0m in \u001b[0;36m<module>\u001b[0;34m()\u001b[0m\n\u001b[1;32m      1\u001b[0m \u001b[0mb\u001b[0m \u001b[0;34m=\u001b[0m \u001b[0mA\u001b[0m\u001b[0;34m.\u001b[0m\u001b[0m__new__\u001b[0m\u001b[0;34m(\u001b[0m\u001b[0mA\u001b[0m\u001b[0;34m)\u001b[0m\u001b[0;34m\u001b[0m\u001b[0m\n\u001b[0;32m----> 2\u001b[0;31m \u001b[0mb\u001b[0m\u001b[0;34m.\u001b[0m\u001b[0m__load\u001b[0m\u001b[0;34m(\u001b[0m\u001b[0mnp\u001b[0m\u001b[0;34m.\u001b[0m\u001b[0mzeros\u001b[0m\u001b[0;34m(\u001b[0m\u001b[0;36m10\u001b[0m\u001b[0;34m)\u001b[0m\u001b[0;34m)\u001b[0m\u001b[0;34m\u001b[0m\u001b[0m\n\u001b[0m\u001b[1;32m      3\u001b[0m \u001b[0mb\u001b[0m\u001b[0;34m\u001b[0m\u001b[0m\n",
      "\u001b[0;32m<ipython-input-16-bb7a277979dd>\u001b[0m in \u001b[0;36m__getattribute__\u001b[0;34m(self, item)\u001b[0m\n\u001b[1;32m     21\u001b[0m     \u001b[0;32mdef\u001b[0m \u001b[0m__getattribute__\u001b[0m\u001b[0;34m(\u001b[0m\u001b[0mself\u001b[0m\u001b[0;34m,\u001b[0m \u001b[0mitem\u001b[0m\u001b[0;34m)\u001b[0m\u001b[0;34m:\u001b[0m\u001b[0;34m\u001b[0m\u001b[0m\n\u001b[1;32m     22\u001b[0m         \u001b[0mprint\u001b[0m\u001b[0;34m(\u001b[0m\u001b[0mitem\u001b[0m\u001b[0;34m)\u001b[0m\u001b[0;34m\u001b[0m\u001b[0m\n\u001b[0;32m---> 23\u001b[0;31m         \u001b[0;32mreturn\u001b[0m \u001b[0msuper\u001b[0m\u001b[0;34m(\u001b[0m\u001b[0;34m)\u001b[0m\u001b[0;34m.\u001b[0m\u001b[0m__getattribute__\u001b[0m\u001b[0;34m(\u001b[0m\u001b[0mitem\u001b[0m\u001b[0;34m)\u001b[0m\u001b[0;34m\u001b[0m\u001b[0m\n\u001b[0m",
      "\u001b[0;31mValueError\u001b[0m: wrapper has not been initialized"
     ]
    }
   ],
   "source": [
    "b = A.__new__(A)\n",
    "b.load(np.zeros(10))\n",
    "b"
   ]
  },
  {
   "cell_type": "code",
   "execution_count": 7,
   "metadata": {},
   "outputs": [
    {
     "data": {
      "text/plain": [
       "__main__.A"
      ]
     },
     "execution_count": 7,
     "metadata": {},
     "output_type": "execute_result"
    }
   ],
   "source": [
    "a += 1\n",
    "type(a)"
   ]
  },
  {
   "cell_type": "code",
   "execution_count": 8,
   "metadata": {},
   "outputs": [
    {
     "data": {
      "text/plain": [
       "array([ 3.,  3.,  3.,  3.,  3.,  3.,  3.,  3.,  3.,  3.])"
      ]
     },
     "execution_count": 8,
     "metadata": {},
     "output_type": "execute_result"
    }
   ],
   "source": [
    "a.__wrapped__"
   ]
  },
  {
   "cell_type": "code",
   "execution_count": 3,
   "metadata": {},
   "outputs": [
    {
     "data": {
      "text/plain": [
       "tdict()"
      ]
     },
     "execution_count": 3,
     "metadata": {},
     "output_type": "execute_result"
    }
   ],
   "source": [
    "x = tdict()\n",
    "x"
   ]
  },
  {
   "cell_type": "code",
   "execution_count": 3,
   "metadata": {},
   "outputs": [
    {
     "data": {
      "text/plain": [
       "'x'"
      ]
     },
     "execution_count": 3,
     "metadata": {},
     "output_type": "execute_result"
    }
   ],
   "source": [
    "p = Savable.create('gsm.util.Player')\n",
    "p.x = 'x'\n",
    "p.x"
   ]
  },
  {
   "cell_type": "code",
   "execution_count": 4,
   "metadata": {},
   "outputs": [
    {
     "data": {
      "text/plain": [
       "Player([('x', 'x')])"
      ]
     },
     "execution_count": 4,
     "metadata": {},
     "output_type": "execute_result"
    }
   ],
   "source": [
    "p"
   ]
  },
  {
   "cell_type": "code",
   "execution_count": 5,
   "metadata": {
    "collapsed": true
   },
   "outputs": [],
   "source": [
    "class Test(object):\n",
    "    \n",
    "    __m = 'm'\n",
    "    \n",
    "    def __new__(cls, *args, **kwargs):\n",
    "        print(args, kwargs)\n",
    "        return super().__new__(cls)\n",
    "    \n",
    "    def __init__(self, x):\n",
    "        self.__x = x\n",
    "        self.__dict__['__y'] = x+1\n",
    "        \n",
    "    def f(self):\n",
    "        print(self.__x)\n",
    "        print(self.__y)\n",
    "        \n",
    "    def __setattr__(self, x, y):\n",
    "        print(x, y)\n",
    "        super().__setattr__(x,y)\n",
    "        \n",
    "class T2(Test):\n",
    "    def f(self, x):\n",
    "        print(self, x)\n",
    "    \n",
    "    def g(self, x):\n",
    "        print(x)"
   ]
  },
  {
   "cell_type": "code",
   "execution_count": 6,
   "metadata": {},
   "outputs": [
    {
     "ename": "NameError",
     "evalue": "name 't' is not defined",
     "output_type": "error",
     "traceback": [
      "\u001b[0;31m---------------------------------------------------------------------------\u001b[0m",
      "\u001b[0;31mNameError\u001b[0m                                 Traceback (most recent call last)",
      "\u001b[0;32m<ipython-input-6-8bb8b9261a06>\u001b[0m in \u001b[0;36m<module>\u001b[0;34m()\u001b[0m\n\u001b[0;32m----> 1\u001b[0;31m \u001b[0mdir\u001b[0m\u001b[0;34m(\u001b[0m\u001b[0mt\u001b[0m\u001b[0;34m)\u001b[0m\u001b[0;34m\u001b[0m\u001b[0m\n\u001b[0m",
      "\u001b[0;31mNameError\u001b[0m: name 't' is not defined"
     ]
    }
   ],
   "source": [
    "dir(t)"
   ]
  },
  {
   "cell_type": "code",
   "execution_count": 7,
   "metadata": {},
   "outputs": [
    {
     "name": "stdout",
     "output_type": "stream",
     "text": [
      "(1,) {}\n",
      "_Test__x 1\n"
     ]
    }
   ],
   "source": [
    "t = Test(1)"
   ]
  },
  {
   "cell_type": "code",
   "execution_count": 1,
   "metadata": {
    "collapsed": true
   },
   "outputs": [],
   "source": [
    "import time"
   ]
  },
  {
   "cell_type": "code",
   "execution_count": 5,
   "metadata": {},
   "outputs": [
    {
     "data": {
      "text/plain": [
       "'2019-09-17_135729'"
      ]
     },
     "execution_count": 5,
     "metadata": {},
     "output_type": "execute_result"
    }
   ],
   "source": [
    "time.strftime('%Y-%m-%d_%H%M%S')"
   ]
  },
  {
   "cell_type": "code",
   "execution_count": 9,
   "metadata": {},
   "outputs": [
    {
     "data": {
      "text/plain": [
       "'m'"
      ]
     },
     "execution_count": 9,
     "metadata": {},
     "output_type": "execute_result"
    }
   ],
   "source": [
    "Test._Test__m"
   ]
  },
  {
   "cell_type": "code",
   "execution_count": 27,
   "metadata": {},
   "outputs": [
    {
     "data": {
      "text/plain": [
       "{'_Test__x': 1, '__y': 2}"
      ]
     },
     "execution_count": 27,
     "metadata": {},
     "output_type": "execute_result"
    }
   ],
   "source": [
    "t.__dict__"
   ]
  },
  {
   "cell_type": "code",
   "execution_count": 29,
   "metadata": {},
   "outputs": [
    {
     "data": {
      "text/plain": [
       "2"
      ]
     },
     "execution_count": 29,
     "metadata": {},
     "output_type": "execute_result"
    }
   ],
   "source": [
    "t.__y"
   ]
  },
  {
   "cell_type": "code",
   "execution_count": 28,
   "metadata": {},
   "outputs": [
    {
     "name": "stdout",
     "output_type": "stream",
     "text": [
      "1\n"
     ]
    },
    {
     "ename": "AttributeError",
     "evalue": "'Test' object has no attribute '_Test__y'",
     "output_type": "error",
     "traceback": [
      "\u001b[0;31m---------------------------------------------------------------------------\u001b[0m",
      "\u001b[0;31mAttributeError\u001b[0m                            Traceback (most recent call last)",
      "\u001b[0;32m<ipython-input-28-c429e5ae1ae6>\u001b[0m in \u001b[0;36m<module>\u001b[0;34m()\u001b[0m\n\u001b[0;32m----> 1\u001b[0;31m \u001b[0mt\u001b[0m\u001b[0;34m.\u001b[0m\u001b[0mf\u001b[0m\u001b[0;34m(\u001b[0m\u001b[0;34m)\u001b[0m\u001b[0;34m\u001b[0m\u001b[0m\n\u001b[0m",
      "\u001b[0;32m<ipython-input-24-c4c793935567>\u001b[0m in \u001b[0;36mf\u001b[0;34m(self)\u001b[0m\n\u001b[1;32m      7\u001b[0m     \u001b[0;32mdef\u001b[0m \u001b[0mf\u001b[0m\u001b[0;34m(\u001b[0m\u001b[0mself\u001b[0m\u001b[0;34m)\u001b[0m\u001b[0;34m:\u001b[0m\u001b[0;34m\u001b[0m\u001b[0m\n\u001b[1;32m      8\u001b[0m         \u001b[0mprint\u001b[0m\u001b[0;34m(\u001b[0m\u001b[0mself\u001b[0m\u001b[0;34m.\u001b[0m\u001b[0m__x\u001b[0m\u001b[0;34m)\u001b[0m\u001b[0;34m\u001b[0m\u001b[0m\n\u001b[0;32m----> 9\u001b[0;31m         \u001b[0mprint\u001b[0m\u001b[0;34m(\u001b[0m\u001b[0mself\u001b[0m\u001b[0;34m.\u001b[0m\u001b[0m__y\u001b[0m\u001b[0;34m)\u001b[0m\u001b[0;34m\u001b[0m\u001b[0m\n\u001b[0m\u001b[1;32m     10\u001b[0m \u001b[0;34m\u001b[0m\u001b[0m\n\u001b[1;32m     11\u001b[0m     \u001b[0;32mdef\u001b[0m \u001b[0m__setattr__\u001b[0m\u001b[0;34m(\u001b[0m\u001b[0mself\u001b[0m\u001b[0;34m,\u001b[0m \u001b[0mx\u001b[0m\u001b[0;34m,\u001b[0m \u001b[0my\u001b[0m\u001b[0;34m)\u001b[0m\u001b[0;34m:\u001b[0m\u001b[0;34m\u001b[0m\u001b[0m\n",
      "\u001b[0;31mAttributeError\u001b[0m: 'Test' object has no attribute '_Test__y'"
     ]
    }
   ],
   "source": [
    "t.f()"
   ]
  },
  {
   "cell_type": "code",
   "execution_count": 13,
   "metadata": {
    "collapsed": true
   },
   "outputs": [],
   "source": [
    "# class Sup(object):\n",
    "#     @classmethod \n",
    "#     def makeit(cls):\n",
    "#         self = cls.__new__(cls)\n",
    "#         # etc etc, then\n",
    "#         return self\n",
    "\n",
    "class Test(object):\n",
    "    \n",
    "    def __init__(self, x):\n",
    "        super().__init__()\n",
    "        print(x)\n",
    "        self.x = x\n",
    "    \n",
    "    def f(self):\n",
    "        print(self.x)"
   ]
  },
  {
   "cell_type": "code",
   "execution_count": 14,
   "metadata": {},
   "outputs": [
    {
     "ename": "TypeError",
     "evalue": "__init__() missing 1 required positional argument: 'x'",
     "output_type": "error",
     "traceback": [
      "\u001b[0;31m---------------------------------------------------------------------------\u001b[0m",
      "\u001b[0;31mTypeError\u001b[0m                                 Traceback (most recent call last)",
      "\u001b[0;32m<ipython-input-14-da1e74055041>\u001b[0m in \u001b[0;36m<module>\u001b[0;34m()\u001b[0m\n\u001b[0;32m----> 1\u001b[0;31m \u001b[0ma\u001b[0m \u001b[0;34m=\u001b[0m \u001b[0mTest\u001b[0m\u001b[0;34m(\u001b[0m\u001b[0;34m)\u001b[0m\u001b[0;34m\u001b[0m\u001b[0m\n\u001b[0m",
      "\u001b[0;31mTypeError\u001b[0m: __init__() missing 1 required positional argument: 'x'"
     ]
    }
   ],
   "source": [
    "a = Test()"
   ]
  },
  {
   "cell_type": "code",
   "execution_count": 15,
   "metadata": {},
   "outputs": [
    {
     "ename": "AttributeError",
     "evalue": "'Test' object has no attribute 'x'",
     "output_type": "error",
     "traceback": [
      "\u001b[0;31m---------------------------------------------------------------------------\u001b[0m",
      "\u001b[0;31mAttributeError\u001b[0m                            Traceback (most recent call last)",
      "\u001b[0;32m<ipython-input-15-d1ec26802f17>\u001b[0m in \u001b[0;36m<module>\u001b[0;34m()\u001b[0m\n\u001b[1;32m      1\u001b[0m \u001b[0ma\u001b[0m \u001b[0;34m=\u001b[0m \u001b[0mTest\u001b[0m\u001b[0;34m.\u001b[0m\u001b[0m__new__\u001b[0m\u001b[0;34m(\u001b[0m\u001b[0mTest\u001b[0m\u001b[0;34m)\u001b[0m\u001b[0;34m\u001b[0m\u001b[0m\n\u001b[0;32m----> 2\u001b[0;31m \u001b[0ma\u001b[0m\u001b[0;34m.\u001b[0m\u001b[0mf\u001b[0m\u001b[0;34m(\u001b[0m\u001b[0;34m)\u001b[0m\u001b[0;34m\u001b[0m\u001b[0m\n\u001b[0m",
      "\u001b[0;32m<ipython-input-13-ba04b55945b1>\u001b[0m in \u001b[0;36mf\u001b[0;34m(self)\u001b[0m\n\u001b[1;32m     14\u001b[0m \u001b[0;34m\u001b[0m\u001b[0m\n\u001b[1;32m     15\u001b[0m     \u001b[0;32mdef\u001b[0m \u001b[0mf\u001b[0m\u001b[0;34m(\u001b[0m\u001b[0mself\u001b[0m\u001b[0;34m)\u001b[0m\u001b[0;34m:\u001b[0m\u001b[0;34m\u001b[0m\u001b[0m\n\u001b[0;32m---> 16\u001b[0;31m         \u001b[0mprint\u001b[0m\u001b[0;34m(\u001b[0m\u001b[0mself\u001b[0m\u001b[0;34m.\u001b[0m\u001b[0mx\u001b[0m\u001b[0;34m)\u001b[0m\u001b[0;34m\u001b[0m\u001b[0m\n\u001b[0m",
      "\u001b[0;31mAttributeError\u001b[0m: 'Test' object has no attribute 'x'"
     ]
    }
   ],
   "source": [
    "a = Test.__new__(Test)\n",
    "a.f()"
   ]
  },
  {
   "cell_type": "code",
   "execution_count": null,
   "metadata": {
    "collapsed": true
   },
   "outputs": [],
   "source": []
  },
  {
   "cell_type": "code",
   "execution_count": null,
   "metadata": {
    "collapsed": true
   },
   "outputs": [],
   "source": []
  },
  {
   "cell_type": "code",
   "execution_count": 10,
   "metadata": {},
   "outputs": [
    {
     "data": {
      "text/plain": [
       "array([[ 1,  0,  0],\n",
       "       [ 0, -1,  0],\n",
       "       [ 0,  0,  0]])"
      ]
     },
     "execution_count": 10,
     "metadata": {},
     "output_type": "execute_result"
    }
   ],
   "source": [
    "m = np.zeros((3,3), dtype=int)\n",
    "m[0,0]= 1\n",
    "m[1,1] = -1\n",
    "m"
   ]
  },
  {
   "cell_type": "code",
   "execution_count": 11,
   "metadata": {},
   "outputs": [
    {
     "data": {
      "text/plain": [
       "{'x': 1.245}"
      ]
     },
     "execution_count": 11,
     "metadata": {},
     "output_type": "execute_result"
    }
   ],
   "source": [
    "json.loads(json.dumps({'x':1.245}))"
   ]
  },
  {
   "cell_type": "code",
   "execution_count": 6,
   "metadata": {},
   "outputs": [
    {
     "ename": "AttributeError",
     "evalue": "'numpy.ndarray' object has no attribute '__getstate__'",
     "output_type": "error",
     "traceback": [
      "\u001b[0;31m---------------------------------------------------------------------------\u001b[0m",
      "\u001b[0;31mAttributeError\u001b[0m                            Traceback (most recent call last)",
      "\u001b[0;32m<ipython-input-6-28ddfccee637>\u001b[0m in \u001b[0;36m<module>\u001b[0;34m()\u001b[0m\n\u001b[0;32m----> 1\u001b[0;31m \u001b[0mnp\u001b[0m\u001b[0;34m.\u001b[0m\u001b[0marray\u001b[0m\u001b[0;34m(\u001b[0m\u001b[0;34m[\u001b[0m\u001b[0;36m1\u001b[0m\u001b[0;34m,\u001b[0m\u001b[0;36m2\u001b[0m\u001b[0;34m]\u001b[0m\u001b[0;34m)\u001b[0m\u001b[0;34m.\u001b[0m\u001b[0m__getstate__\u001b[0m\u001b[0;34m(\u001b[0m\u001b[0;34m)\u001b[0m\u001b[0;34m\u001b[0m\u001b[0m\n\u001b[0m",
      "\u001b[0;31mAttributeError\u001b[0m: 'numpy.ndarray' object has no attribute '__getstate__'"
     ]
    }
   ],
   "source": [
    "np.array([1,2]).__getstate__()"
   ]
  },
  {
   "cell_type": "code",
   "execution_count": 2,
   "metadata": {},
   "outputs": [
    {
     "ename": "ValueError",
     "evalue": "invalid literal for int() with base 10: 'a'",
     "output_type": "error",
     "traceback": [
      "\u001b[0;31m---------------------------------------------------------------------------\u001b[0m",
      "\u001b[0;31mValueError\u001b[0m                                Traceback (most recent call last)",
      "\u001b[0;32m<ipython-input-2-b3c3f4515dd4>\u001b[0m in \u001b[0;36m<module>\u001b[0;34m()\u001b[0m\n\u001b[0;32m----> 1\u001b[0;31m \u001b[0mint\u001b[0m\u001b[0;34m(\u001b[0m\u001b[0;34m'a'\u001b[0m\u001b[0;34m)\u001b[0m\u001b[0;34m\u001b[0m\u001b[0m\n\u001b[0m",
      "\u001b[0;31mValueError\u001b[0m: invalid literal for int() with base 10: 'a'"
     ]
    }
   ],
   "source": [
    "int('a')"
   ]
  },
  {
   "cell_type": "code",
   "execution_count": 13,
   "metadata": {},
   "outputs": [
    {
     "ename": "TypeError",
     "evalue": "__init__() missing 1 required positional argument: 'x'",
     "output_type": "error",
     "traceback": [
      "\u001b[0;31m---------------------------------------------------------------------------\u001b[0m",
      "\u001b[0;31mTypeError\u001b[0m                                 Traceback (most recent call last)",
      "\u001b[0;32m<ipython-input-13-d1e5fd9e553c>\u001b[0m in \u001b[0;36m<module>\u001b[0;34m()\u001b[0m\n\u001b[0;32m----> 1\u001b[0;31m \u001b[0mTest\u001b[0m\u001b[0;34m(\u001b[0m\u001b[0;34m)\u001b[0m\u001b[0;34m\u001b[0m\u001b[0m\n\u001b[0m",
      "\u001b[0;31mTypeError\u001b[0m: __init__() missing 1 required positional argument: 'x'"
     ]
    }
   ],
   "source": [
    "Test()"
   ]
  },
  {
   "cell_type": "code",
   "execution_count": 12,
   "metadata": {
    "collapsed": true
   },
   "outputs": [],
   "source": [
    "x, y = np.mgrid[0:m.shape[0],0:m.shape[1]]"
   ]
  },
  {
   "cell_type": "code",
   "execution_count": 1,
   "metadata": {
    "collapsed": true
   },
   "outputs": [],
   "source": [
    "class Test(object):\n",
    "    \n",
    "    def __init__(self, x):\n",
    "        print('init', x)\n",
    "    \n",
    "    def __init_subclass__(cls, **kwargs):\n",
    "        print(cls)\n",
    "        print(kwargs)\n",
    "    \n",
    "    def __new__(self, x):\n",
    "        print('new', x)\n",
    "        super().__new__(self)"
   ]
  },
  {
   "cell_type": "code",
   "execution_count": 6,
   "metadata": {},
   "outputs": [
    {
     "name": "stdout",
     "output_type": "stream",
     "text": [
      "new 1\n"
     ]
    }
   ],
   "source": [
    "Test(1)"
   ]
  },
  {
   "cell_type": "code",
   "execution_count": 2,
   "metadata": {},
   "outputs": [
    {
     "name": "stdout",
     "output_type": "stream",
     "text": [
      "<class '__main__.T1'>\n",
      "{}\n"
     ]
    }
   ],
   "source": [
    "class T2(object):\n",
    "    pass\n",
    "\n",
    "class T1(Test, T2):\n",
    "    def __init__(self, x):\n",
    "        super().__init__(x)\n",
    "        print(x+1)"
   ]
  },
  {
   "cell_type": "code",
   "execution_count": null,
   "metadata": {
    "collapsed": true
   },
   "outputs": [],
   "source": [
    "'test'.__getstate__()"
   ]
  },
  {
   "cell_type": "code",
   "execution_count": null,
   "metadata": {
    "collapsed": true
   },
   "outputs": [],
   "source": []
  },
  {
   "cell_type": "code",
   "execution_count": 4,
   "metadata": {},
   "outputs": [
    {
     "name": "stderr",
     "output_type": "stream",
     "text": [
      "[autoreload of gsm.core.actions failed: Traceback (most recent call last):\n",
      "  File \"/home/fleeb/anaconda3/lib/python3.6/site-packages/IPython/extensions/autoreload.py\", line 246, in check\n",
      "    superreload(m, reload, self.old_objects)\n",
      "  File \"/home/fleeb/anaconda3/lib/python3.6/site-packages/IPython/extensions/autoreload.py\", line 369, in superreload\n",
      "    module = reload(module)\n",
      "  File \"/home/fleeb/anaconda3/lib/python3.6/imp.py\", line 315, in reload\n",
      "    return importlib.reload(module)\n",
      "  File \"/home/fleeb/anaconda3/lib/python3.6/importlib/__init__.py\", line 166, in reload\n",
      "    _bootstrap._exec(spec, module)\n",
      "  File \"<frozen importlib._bootstrap>\", line 618, in _exec\n",
      "  File \"<frozen importlib._bootstrap_external>\", line 674, in exec_module\n",
      "  File \"<frozen importlib._bootstrap_external>\", line 781, in get_code\n",
      "  File \"<frozen importlib._bootstrap_external>\", line 741, in source_to_code\n",
      "  File \"<frozen importlib._bootstrap>\", line 219, in _call_with_frames_removed\n",
      "  File \"/mnt/c/Users/anwan/OneDrive - UW Office 365/Khan/Other/gsm/git/gsm/core/actions.py\", line 74\n",
      "    actions =\n",
      "            ^\n",
      "SyntaxError: invalid syntax\n",
      "]\n"
     ]
    },
    {
     "data": {
      "text/plain": [
       "'1'"
      ]
     },
     "execution_count": 4,
     "metadata": {},
     "output_type": "execute_result"
    }
   ],
   "source": [
    "type('a')(1)"
   ]
  },
  {
   "cell_type": "code",
   "execution_count": null,
   "metadata": {
    "collapsed": true
   },
   "outputs": [],
   "source": []
  },
  {
   "cell_type": "code",
   "execution_count": 13,
   "metadata": {},
   "outputs": [
    {
     "data": {
      "text/plain": [
       "'test A {a 1234.24 b B c X d'"
      ]
     },
     "execution_count": 13,
     "metadata": {},
     "output_type": "execute_result"
    }
   ],
   "source": [
    "s = 'test {} {{a {:3.2f} b {:} c {p[x]:} d'\n",
    "s.format('A', 1234.2351, 'B', p={'x':'X'})"
   ]
  },
  {
   "cell_type": "code",
   "execution_count": 14,
   "metadata": {},
   "outputs": [
    {
     "data": {
      "text/plain": [
       "[('test ', '', '', None),\n",
       " (' {', None, None, None),\n",
       " ('a ', '', '3.2f', None),\n",
       " (' b ', '', '', None),\n",
       " (' c ', 'p[x]', '', None),\n",
       " (' d', None, None, None)]"
      ]
     },
     "execution_count": 14,
     "metadata": {},
     "output_type": "execute_result"
    }
   ],
   "source": [
    "F = Formatter()\n",
    "list(F.parse(s))"
   ]
  },
  {
   "cell_type": "code",
   "execution_count": 15,
   "metadata": {},
   "outputs": [
    {
     "data": {
      "text/plain": [
       "'str'"
      ]
     },
     "execution_count": 15,
     "metadata": {},
     "output_type": "execute_result"
    }
   ],
   "source": [
    "'test'.__class__.__name__"
   ]
  },
  {
   "cell_type": "code",
   "execution_count": null,
   "metadata": {
    "collapsed": true
   },
   "outputs": [],
   "source": []
  },
  {
   "cell_type": "code",
   "execution_count": null,
   "metadata": {
    "collapsed": true
   },
   "outputs": [],
   "source": []
  },
  {
   "cell_type": "code",
   "execution_count": 2,
   "metadata": {
    "collapsed": true
   },
   "outputs": [],
   "source": [
    "class Parent:\n",
    "    def signal(self):\n",
    "        print('bing')"
   ]
  },
  {
   "cell_type": "code",
   "execution_count": 3,
   "metadata": {},
   "outputs": [
    {
     "data": {
      "text/plain": [
       "tdict('a':10, 'c':'hello')"
      ]
     },
     "execution_count": 3,
     "metadata": {},
     "output_type": "execute_result"
    }
   ],
   "source": [
    "a = tdict(a=10, c='hello', _tracker=Parent())\n",
    "a._tracker = Parent()\n",
    "a"
   ]
  },
  {
   "cell_type": "code",
   "execution_count": 4,
   "metadata": {
    "collapsed": true
   },
   "outputs": [],
   "source": [
    "a.begin()"
   ]
  },
  {
   "cell_type": "code",
   "execution_count": 5,
   "metadata": {},
   "outputs": [
    {
     "name": "stdout",
     "output_type": "stream",
     "text": [
      "bing\n",
      "bing\n",
      "bing\n",
      "bing\n"
     ]
    },
    {
     "data": {
      "text/plain": [
       "tdict('a':11, 'c':'hello', 'b':tdict('deep':'yes'), 'd':'testing')"
      ]
     },
     "execution_count": 5,
     "metadata": {},
     "output_type": "execute_result"
    }
   ],
   "source": [
    "a.a = 11\n",
    "a.b = tdict()\n",
    "a.d = 'testing'\n",
    "a.b.deep = 'yes'\n",
    "a"
   ]
  },
  {
   "cell_type": "code",
   "execution_count": 6,
   "metadata": {},
   "outputs": [
    {
     "data": {
      "text/plain": [
       "tdict('a':10, 'c':'hello')"
      ]
     },
     "execution_count": 6,
     "metadata": {},
     "output_type": "execute_result"
    }
   ],
   "source": [
    "a.abort()\n",
    "a"
   ]
  },
  {
   "cell_type": "code",
   "execution_count": 7,
   "metadata": {},
   "outputs": [
    {
     "data": {
      "text/plain": [
       "<__main__.Parent at 0x7f01caa37c50>"
      ]
     },
     "execution_count": 7,
     "metadata": {},
     "output_type": "execute_result"
    }
   ],
   "source": [
    "a._tracker"
   ]
  },
  {
   "cell_type": "code",
   "execution_count": 7,
   "metadata": {},
   "outputs": [
    {
     "name": "stdout",
     "output_type": "stream",
     "text": [
      "bing\n"
     ]
    },
    {
     "data": {
      "text/plain": [
       "[tdict('x':1), tdict('ad':3)]"
      ]
     },
     "execution_count": 7,
     "metadata": {},
     "output_type": "execute_result"
    }
   ],
   "source": [
    "a = tlist([tdict(x=1), tdict(ad=3)], _tracker=Parent())\n",
    "a"
   ]
  },
  {
   "cell_type": "code",
   "execution_count": 9,
   "metadata": {},
   "outputs": [
    {
     "name": "stdout",
     "output_type": "stream",
     "text": [
      "bing\n"
     ]
    },
    {
     "data": {
      "text/plain": [
       "[tdict('x':1), tdict('ad':3), 'x']"
      ]
     },
     "execution_count": 9,
     "metadata": {},
     "output_type": "execute_result"
    }
   ],
   "source": [
    "a.begin()\n",
    "a.append('x')\n",
    "a"
   ]
  },
  {
   "cell_type": "code",
   "execution_count": 10,
   "metadata": {},
   "outputs": [
    {
     "name": "stdout",
     "output_type": "stream",
     "text": [
      "bing\n",
      "bing\n",
      "pass x\n"
     ]
    },
    {
     "data": {
      "text/plain": [
       "[tdict('x':1, 'v':14), tdict('ad':3, 'v':14), 'x']"
      ]
     },
     "execution_count": 10,
     "metadata": {},
     "output_type": "execute_result"
    }
   ],
   "source": [
    "# a.add(tdict())\n",
    "for x in a:\n",
    "#     print(x)\n",
    "    try:\n",
    "        x.v = 14\n",
    "    except Exception as e:\n",
    "        print('pass',x)\n",
    "#         raise e\n",
    "        pass\n",
    "a"
   ]
  },
  {
   "cell_type": "code",
   "execution_count": 12,
   "metadata": {},
   "outputs": [
    {
     "data": {
      "text/plain": [
       "[tdict('x':1), tdict('ad':3)]"
      ]
     },
     "execution_count": 12,
     "metadata": {},
     "output_type": "execute_result"
    }
   ],
   "source": [
    "a.abort()\n",
    "a"
   ]
  },
  {
   "cell_type": "code",
   "execution_count": null,
   "metadata": {
    "collapsed": true
   },
   "outputs": [],
   "source": []
  },
  {
   "cell_type": "code",
   "execution_count": null,
   "metadata": {
    "collapsed": true
   },
   "outputs": [],
   "source": []
  },
  {
   "cell_type": "code",
   "execution_count": null,
   "metadata": {
    "collapsed": true
   },
   "outputs": [],
   "source": []
  },
  {
   "cell_type": "code",
   "execution_count": null,
   "metadata": {
    "collapsed": true
   },
   "outputs": [],
   "source": []
  },
  {
   "cell_type": "code",
   "execution_count": null,
   "metadata": {
    "collapsed": true
   },
   "outputs": [],
   "source": []
  }
 ],
 "metadata": {
  "kernelspec": {
   "display_name": "Python 3",
   "language": "python",
   "name": "python3"
  },
  "language_info": {
   "codemirror_mode": {
    "name": "ipython",
    "version": 3
   },
   "file_extension": ".py",
   "mimetype": "text/x-python",
   "name": "python",
   "nbconvert_exporter": "python",
   "pygments_lexer": "ipython3",
   "version": "3.7.4"
  }
 },
 "nbformat": 4,
 "nbformat_minor": 2
}
