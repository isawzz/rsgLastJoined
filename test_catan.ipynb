{
 "cells": [
  {
   "cell_type": "code",
   "execution_count": 1,
   "metadata": {},
   "outputs": [],
   "source": [
    "import sys, os, time\n",
    "%load_ext autoreload\n",
    "%autoreload 2\n",
    "%matplotlib inline\n",
    "#%matplotlib tk\n",
    "import numpy as np\n",
    "import select\n",
    "import json\n",
    "import yaml\n",
    "import matplotlib.pyplot as plt\n",
    "from collections import namedtuple, OrderedDict\n",
    "import multiprocessing as mp\n",
    "import random\n",
    "from string import Formatter\n",
    "from itertools import chain, product\n",
    "# import gsm\n",
    "import gsm\n",
    "from gsm import tdict, tlist, tset, tstack, tdeque\n",
    "from gsm import GameObject, GameLogger\n",
    "from gsm.mixins import Named\n",
    "from gsm import Array\n",
    "from gsm import viz\n",
    "from examples.tictactoe import TicTacToe\n",
    "from gsm.common.world import grid\n",
    "np.set_printoptions(linewidth=120)"
   ]
  },
  {
   "cell_type": "code",
   "execution_count": 4,
   "metadata": {
    "collapsed": true
   },
   "outputs": [],
   "source": [
    "seed = 0\n",
    "# seed = None\n",
    "I = viz.Ipython_Runner(r'http://localhost:5000/', 'me', full_log=True, seed=seed)"
   ]
  },
  {
   "cell_type": "code",
   "execution_count": 5,
   "metadata": {},
   "outputs": [
    {
     "data": {
      "text/plain": [
       "'Host restarted (debug=True)'"
      ]
     },
     "execution_count": 5,
     "metadata": {},
     "output_type": "execute_result"
    }
   ],
   "source": [
    "I.restart(debug=True)"
   ]
  },
  {
   "cell_type": "code",
   "execution_count": 6,
   "metadata": {},
   "outputs": [
    {
     "data": {
      "text/plain": [
       "['catan', 'ttt']"
      ]
     },
     "execution_count": 6,
     "metadata": {},
     "output_type": "execute_result"
    }
   ],
   "source": [
    "I.available_games()"
   ]
  },
  {
   "cell_type": "code",
   "execution_count": 7,
   "metadata": {},
   "outputs": [
    {
     "data": {
      "text/plain": [
       "'Game set to: catan'"
      ]
     },
     "execution_count": 7,
     "metadata": {},
     "output_type": "execute_result"
    }
   ],
   "source": [
    "I.select_game('catan')"
   ]
  },
  {
   "cell_type": "code",
   "execution_count": 8,
   "metadata": {},
   "outputs": [
    {
     "data": {
      "text/plain": [
       "{'long_name': 'The Settlers of Catan',\n",
       " 'name': 'Catan',\n",
       " 'num_players': [3, 4],\n",
       " 'player_names': ['White', 'Red', 'Blue', 'Orange'],\n",
       " 'short_name': 'catan'}"
      ]
     },
     "execution_count": 8,
     "metadata": {},
     "output_type": "execute_result"
    }
   ],
   "source": [
    "I.game_info()"
   ]
  },
  {
   "cell_type": "code",
   "execution_count": 9,
   "metadata": {},
   "outputs": [
    {
     "data": {
      "text/plain": [
       "['White', 'Red', 'Blue', 'Orange']"
      ]
     },
     "execution_count": 9,
     "metadata": {},
     "output_type": "execute_result"
    }
   ],
   "source": [
    "I.game_players()"
   ]
  },
  {
   "cell_type": "code",
   "execution_count": 10,
   "metadata": {},
   "outputs": [
    {
     "data": {
      "text/plain": [
       "'Created an interface (agent) for: randy, pal, polly'"
      ]
     },
     "execution_count": 10,
     "metadata": {},
     "output_type": "execute_result"
    }
   ],
   "source": [
    "I.add_client('randy', 'pal', 'polly', interface='agent', agent_type='random', timeout=None, seed=I.seed)\n",
    "# I.add_client('me', interface='agent', agent_type='random', timeout=None, seed=None)"
   ]
  },
  {
   "cell_type": "code",
   "execution_count": 11,
   "metadata": {},
   "outputs": [
    {
     "data": {
      "text/plain": [
       "{'pal': ['ping reply from random agent/s: randy, pal, polly', 0.0],\n",
       " 'polly': ['ping reply from random agent/s: randy, pal, polly', 0.0],\n",
       " 'randy': ['ping reply from random agent/s: randy, pal, polly',\n",
       "  0.00099945068359375]}"
      ]
     },
     "execution_count": 11,
     "metadata": {},
     "output_type": "execute_result"
    }
   ],
   "source": [
    "I.ping()"
   ]
  },
  {
   "cell_type": "code",
   "execution_count": 12,
   "metadata": {},
   "outputs": [
    {
     "data": {
      "text/plain": [
       "'pal has joined as an advisor for White'"
      ]
     },
     "execution_count": 12,
     "metadata": {},
     "output_type": "execute_result"
    }
   ],
   "source": [
    "I.add_player('me', 'White')\n",
    "I.add_player('randy', 'Blue')\n",
    "I.add_player('polly', 'Red')\n",
    "I.add_advisor('pal', 'White')"
   ]
  },
  {
   "cell_type": "code",
   "execution_count": 11,
   "metadata": {
    "collapsed": true
   },
   "outputs": [],
   "source": [
    "# I.add_player('randy', 'Player1')"
   ]
  },
  {
   "cell_type": "code",
   "execution_count": 13,
   "metadata": {},
   "outputs": [
    {
     "data": {
      "text/plain": [
       "'Catan has started'"
      ]
     },
     "execution_count": 13,
     "metadata": {},
     "output_type": "execute_result"
    }
   ],
   "source": [
    "I.begin()"
   ]
  },
  {
   "cell_type": "code",
   "execution_count": 14,
   "metadata": {},
   "outputs": [
    {
     "data": {
      "text/plain": [
       "'Cheat code: devcard'"
      ]
     },
     "execution_count": 14,
     "metadata": {},
     "output_type": "execute_result"
    }
   ],
   "source": [
    "I.cheat('devcard')"
   ]
  },
  {
   "cell_type": "code",
   "execution_count": 15,
   "metadata": {
    "scrolled": true
   },
   "outputs": [
    {
     "name": "stdout",
     "output_type": "stream",
     "text": [
      "Received key: 0x629f6fbed82c07cd\n",
      "Received table: 148 entries\n",
      "-------------\n",
      "Log\n",
      "-------------\n",
      "Cheat code activated: devcard\n",
      "-*- PLYR:White  gains  1 wheat.\n",
      "-*- PLYR:White  gains  1 ore.\n",
      "-*- PLYR:White  gains  1 sheep.\n",
      "-*- PLYR:Red  gains  1 wheat.\n",
      "-*- PLYR:Red  gains  1 ore.\n",
      "-*- PLYR:Red  gains  1 sheep.\n",
      "-*- PLYR:Blue  gains  1 wheat.\n",
      "-*- PLYR:Blue  gains  1 ore.\n",
      "-*- PLYR:Blue  gains  1 sheep.\n",
      "\n",
      "Phase: setup\n",
      "Advice:\n",
      "pal recommends: loc - OBJ[115]:Corner[115]\n",
      "+-----------------------------------------+\n",
      "| Choose a location to place a settlement |\n",
      "+-----------------------------------------+\n",
      "   0 - OBJ[91]:Corner[91]\n",
      "   1 - OBJ[92]:Corner[92]\n",
      "   2 - OBJ[93]:Corner[93]\n",
      "   3 - OBJ[94]:Corner[94]\n",
      "   4 - OBJ[95]:Corner[95]\n",
      "   5 - OBJ[96]:Corner[96]\n",
      "   6 - OBJ[97]:Corner[97]\n",
      "   7 - OBJ[98]:Corner[98]\n",
      "   8 - OBJ[99]:Corner[99]\n",
      "   9 - OBJ[100]:Corner[100]\n",
      "  10 - OBJ[101]:Corner[101]\n",
      "  11 - OBJ[102]:Corner[102]\n",
      "  12 - OBJ[103]:Corner[103]\n",
      "  13 - OBJ[104]:Corner[104]\n",
      "  14 - OBJ[105]:Corner[105]\n",
      "  15 - OBJ[106]:Corner[106]\n",
      "  16 - OBJ[107]:Corner[107]\n",
      "  17 - OBJ[108]:Corner[108]\n",
      "  18 - OBJ[109]:Corner[109]\n",
      "  19 - OBJ[110]:Corner[110]\n",
      "  20 - OBJ[111]:Corner[111]\n",
      "  21 - OBJ[112]:Corner[112]\n",
      "  22 - OBJ[113]:Corner[113]\n",
      "  23 - OBJ[114]:Corner[114]\n",
      "  24 - OBJ[115]:Corner[115]\n",
      "  25 - OBJ[116]:Corner[116]\n",
      "  26 - OBJ[117]:Corner[117]\n",
      "  27 - OBJ[118]:Corner[118]\n",
      "  28 - OBJ[119]:Corner[119]\n",
      "  29 - OBJ[120]:Corner[120]\n",
      "  30 - OBJ[121]:Corner[121]\n",
      "  31 - OBJ[122]:Corner[122]\n",
      "  32 - OBJ[123]:Corner[123]\n",
      "  33 - OBJ[124]:Corner[124]\n",
      "  34 - OBJ[125]:Corner[125]\n",
      "  35 - OBJ[126]:Corner[126]\n",
      "  36 - OBJ[127]:Corner[127]\n",
      "  37 - OBJ[128]:Corner[128]\n",
      "  38 - OBJ[129]:Corner[129]\n",
      "  39 - OBJ[130]:Corner[130]\n",
      "  40 - OBJ[131]:Corner[131]\n",
      "  41 - OBJ[132]:Corner[132]\n",
      "  42 - OBJ[133]:Corner[133]\n",
      "  43 - OBJ[134]:Corner[134]\n",
      "  44 - OBJ[135]:Corner[135]\n",
      "  45 - OBJ[136]:Corner[136]\n",
      "  46 - OBJ[137]:Corner[137]\n",
      "  47 - OBJ[138]:Corner[138]\n",
      "  48 - OBJ[139]:Corner[139]\n",
      "  49 - OBJ[140]:Corner[140]\n",
      "  50 - OBJ[141]:Corner[141]\n",
      "  51 - OBJ[142]:Corner[142]\n",
      "  52 - OBJ[143]:Corner[143]\n",
      "  53 - OBJ[144]:Corner[144]\n"
     ]
    }
   ],
   "source": [
    "msg = I.status()\n",
    "I.view()"
   ]
  },
  {
   "cell_type": "code",
   "execution_count": 16,
   "metadata": {},
   "outputs": [
    {
     "name": "stdout",
     "output_type": "stream",
     "text": [
      "Received key: 0xe3e70682c2094cac\n",
      "Received table: 149 entries\n",
      "-------------\n",
      "Log\n",
      "-------------\n",
      "Cheat code activated: devcard\n",
      "-*- PLYR:White  gains  1 wheat.\n",
      "-*- PLYR:White  gains  1 ore.\n",
      "-*- PLYR:White  gains  1 sheep.\n",
      "-*- PLYR:Red  gains  1 wheat.\n",
      "-*- PLYR:Red  gains  1 ore.\n",
      "-*- PLYR:Red  gains  1 sheep.\n",
      "-*- PLYR:Blue  gains  1 wheat.\n",
      "-*- PLYR:Blue  gains  1 ore.\n",
      "-*- PLYR:Blue  gains  1 sheep.\n",
      "PLYR:White builds a OBJ[148]:settlement[148] (gaining 1 victory point)\n",
      "\n",
      "Phase: setup\n",
      "Advice:\n",
      "pal recommends: loc - OBJ[20]:Edge[20]\n",
      "+-----------------------------------+\n",
      "| Choose a location to place a road |\n",
      "+-----------------------------------+\n",
      "   0 - OBJ[29]:Edge[29]\n",
      "   1 - OBJ[20]:Edge[20]\n",
      "   2 - OBJ[19]:Edge[19]\n"
     ]
    }
   ],
   "source": [
    "I.step(1)\n",
    "I.status()\n",
    "I.view()"
   ]
  },
  {
   "cell_type": "code",
   "execution_count": 17,
   "metadata": {
    "scrolled": true
   },
   "outputs": [
    {
     "data": {
      "text/html": [
       "<div id=\"b0fe6797-b1ae-45e9-aeec-8a1a4e8fd0ed\" style=\"height: 600px; width:100%;\"></div>"
      ]
     },
     "metadata": {},
     "output_type": "display_data"
    },
    {
     "data": {
      "application/javascript": [
       "\n",
       "\t\trequire([\"https://rawgit.com/caldwell/renderjson/master/renderjson.js\"], function() {\n",
       "\t\t  renderjson.set_show_to_level(1)\n",
       "\t\t  document.getElementById('b0fe6797-b1ae-45e9-aeec-8a1a4e8fd0ed').appendChild(renderjson({'White': {'num_res': '3', 'color': 'White', 'obj_type': 'GamePlayer', 'name': 'White', 'reserve': {'road': '15', 'settlement': '4', 'city': '4'}, 'buildings': {'road': {}, 'settlement': {'s0': {'_obj': '148'}}, 'city': {}}, 'resources': {'wood': '0', 'brick': '0', 'sheep': '1', 'ore': '1', 'wheat': '1'}, 'devcards': {}, 'past_devcards': {}, 'vps': '1', 'ports': {}}, 'Red': {'num_res': '3', 'color': 'Red', 'reserve': {'road': '15', 'settlement': '5', 'city': '4'}, 'devcards': {}, 'past_devcards': {}, 'ports': {}}, 'Blue': {'num_res': '3', 'color': 'Blue', 'reserve': {'road': '15', 'settlement': '5', 'city': '4'}, 'devcards': {}, 'past_devcards': {}, 'ports': {}}}))\n",
       "\t\t});\n",
       "\t\t"
      ]
     },
     "metadata": {},
     "output_type": "display_data"
    }
   ],
   "source": [
    "viz.render_dict(I.msg.players)"
   ]
  },
  {
   "cell_type": "code",
   "execution_count": null,
   "metadata": {
    "collapsed": true
   },
   "outputs": [],
   "source": []
  }
 ],
 "metadata": {
  "kernelspec": {
   "display_name": "Python 3",
   "language": "python",
   "name": "python3"
  },
  "language_info": {
   "codemirror_mode": {
    "name": "ipython",
    "version": 3
   },
   "file_extension": ".py",
   "mimetype": "text/x-python",
   "name": "python",
   "nbconvert_exporter": "python",
   "pygments_lexer": "ipython3",
   "version": "3.6.3"
  }
 },
 "nbformat": 4,
 "nbformat_minor": 2
}
