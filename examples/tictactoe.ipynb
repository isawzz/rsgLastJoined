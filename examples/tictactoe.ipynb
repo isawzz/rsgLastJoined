{
 "cells": [
  {
   "cell_type": "code",
   "execution_count": 1,
   "metadata": {
    "collapsed": true
   },
   "outputs": [],
   "source": [
    "import sys, os, time\n",
    "%load_ext autoreload\n",
    "%autoreload 2\n",
    "%matplotlib inline\n",
    "#%matplotlib tk\n",
    "import numpy as np\n",
    "import matplotlib.pyplot as plt\n",
    "from collections import namedtuple, OrderedDict\n",
    "import random\n",
    "from string import Formatter\n",
    "from itertools import chain, product\n",
    "import json\n",
    "import gsm\n",
    "from gsm import tdict, tlist, tset\n",
    "from gsm import Savable\n",
    "from gsm import util\n",
    "from gsm import viz\n",
    "from gsm.viz import Ipython_Interface as Interface\n",
    "from tictactoe.main import TicTacToe"
   ]
  },
  {
   "cell_type": "code",
   "execution_count": 2,
   "metadata": {
    "scrolled": true
   },
   "outputs": [
    {
     "name": "stdout",
     "output_type": "stream",
     "text": [
      "Player set to Player1\n"
     ]
    }
   ],
   "source": [
    "seed = 1\n",
    "I = Interface(TicTacToe(), seed=seed)\n",
    "I.set_player('Player1')"
   ]
  },
  {
   "cell_type": "code",
   "execution_count": 3,
   "metadata": {},
   "outputs": [
    {
     "name": "stdout",
     "output_type": "stream",
     "text": [
      "Received key: 0x91b7584a2265b1f5\n",
      "Received table: 0 entries\n",
      "+--------------------------------------------------+\n",
      "| Place a tick into one of these coords (row, col) |\n",
      "+--------------------------------------------------+\n",
      "-- Coordinate options --\n",
      "   0 - (0, 0)\n",
      "   1 - (0, 1)\n",
      "   2 - (0, 2)\n",
      "   3 - (1, 0)\n",
      "   4 - (1, 1)\n",
      "   5 - (1, 2)\n",
      "   6 - (2, 0)\n",
      "   7 - (2, 1)\n",
      "   8 - (2, 2)\n"
     ]
    }
   ],
   "source": [
    "I.reset(seed=seed)\n",
    "I.view()"
   ]
  },
  {
   "cell_type": "code",
   "execution_count": 4,
   "metadata": {},
   "outputs": [
    {
     "name": "stdout",
     "output_type": "stream",
     "text": [
      "Selected action 2: (0, 2)\n",
      "Player set to Player2\n",
      "Received key: 0xcd613e30d8f16adf\n",
      "Received table: 1 entries\n",
      "-------------\n",
      "Log\n",
      "-------------\n",
      "P:Player1 places at: 0, 2\n",
      "\n",
      "+--------------------------------------------------+\n",
      "| Place a tick into one of these coords (row, col) |\n",
      "+--------------------------------------------------+\n",
      "-- Coordinate options --\n",
      "   0 - (0, 0)\n",
      "   1 - (0, 1)\n",
      "   2 - (1, 0)\n",
      "   3 - (1, 1)\n",
      "   4 - (1, 2)\n",
      "   5 - (2, 0)\n",
      "   6 - (2, 1)\n",
      "   7 - (2, 2)\n"
     ]
    }
   ],
   "source": [
    "I.select_action()\n",
    "I.step()\n",
    "I.set_player()\n",
    "I.get_status()\n",
    "I.view()"
   ]
  },
  {
   "cell_type": "code",
   "execution_count": 5,
   "metadata": {},
   "outputs": [
    {
     "data": {
      "text/plain": [
       "odict_keys(['options', 'status', 'key', 'players', 'table', 'log'])"
      ]
     },
     "execution_count": 5,
     "metadata": {},
     "output_type": "execute_result"
    }
   ],
   "source": [
    "I.msg.keys()"
   ]
  },
  {
   "cell_type": "code",
   "execution_count": 6,
   "metadata": {},
   "outputs": [
    {
     "data": {
      "text/plain": [
       "['', tdict('type':'player', 'val':'Player1'), ' places at: ', 0, ', ', 2, '\\n']"
      ]
     },
     "execution_count": 6,
     "metadata": {},
     "output_type": "execute_result"
    }
   ],
   "source": [
    "I.msg.log"
   ]
  },
  {
   "cell_type": "code",
   "execution_count": null,
   "metadata": {
    "collapsed": true
   },
   "outputs": [],
   "source": []
  },
  {
   "cell_type": "code",
   "execution_count": 4,
   "metadata": {
    "scrolled": true
   },
   "outputs": [
    {
     "name": "stdout",
     "output_type": "stream",
     "text": [
      "Received key: 0x91b7584a2265b1f5\n",
      "Received table: 0 entries\n",
      "Status: Place a tick into one of these coords (row, col)\n",
      "-- Coordinate options --\n",
      "   0 - (0, 0)\n",
      "   1 - (0, 1)\n",
      "   2 - (0, 2)\n",
      "   3 - (1, 0)\n",
      "   4 - (1, 1)\n",
      "   5 - (1, 2)\n",
      "   6 - (2, 0)\n",
      "   7 - (2, 1)\n",
      "   8 - (2, 2)\n"
     ]
    }
   ],
   "source": []
  },
  {
   "cell_type": "code",
   "execution_count": 5,
   "metadata": {},
   "outputs": [
    {
     "name": "stdout",
     "output_type": "stream",
     "text": [
      "Selected action 2: (0, 2)\n"
     ]
    }
   ],
   "source": []
  },
  {
   "cell_type": "code",
   "execution_count": 6,
   "metadata": {},
   "outputs": [
    {
     "name": "stdout",
     "output_type": "stream",
     "text": [
      "Waiting for: Player2\n"
     ]
    }
   ],
   "source": []
  },
  {
   "cell_type": "code",
   "execution_count": 7,
   "metadata": {},
   "outputs": [
    {
     "name": "stdout",
     "output_type": "stream",
     "text": [
      "Received table: 1 entries\n",
      "Waiting for: Player2\n"
     ]
    }
   ],
   "source": []
  },
  {
   "cell_type": "code",
   "execution_count": 8,
   "metadata": {},
   "outputs": [
    {
     "name": "stdout",
     "output_type": "stream",
     "text": [
      "Player set to Player2\n"
     ]
    }
   ],
   "source": [
    "I.set_player()"
   ]
  },
  {
   "cell_type": "code",
   "execution_count": 12,
   "metadata": {},
   "outputs": [
    {
     "name": "stdout",
     "output_type": "stream",
     "text": [
      "Waiting for: Player1\n",
      "Received table: 2 entries\n",
      "Waiting for: Player1\n"
     ]
    }
   ],
   "source": [
    "I.get_status()\n",
    "I.view()"
   ]
  },
  {
   "cell_type": "code",
   "execution_count": 10,
   "metadata": {},
   "outputs": [
    {
     "name": "stdout",
     "output_type": "stream",
     "text": [
      "Selected action 1: (0, 1)\n",
      "Waiting for: Player1\n"
     ]
    }
   ],
   "source": [
    "I.select_action()\n",
    "I.step()"
   ]
  },
  {
   "cell_type": "code",
   "execution_count": 11,
   "metadata": {
    "scrolled": true
   },
   "outputs": [
    {
     "data": {
      "text/html": [
       "<div id=\"f0433bc6-a6d7-435d-98dc-a67a5cd20905\" style=\"height: 600px; width:100%;\"></div>"
      ]
     },
     "metadata": {},
     "output_type": "display_data"
    },
    {
     "data": {
      "application/javascript": [
       "\n",
       "\t\trequire([\"https://rawgit.com/caldwell/renderjson/master/renderjson.js\"], function() {\n",
       "\t\t  renderjson.set_show_to_level(1)\n",
       "\t\t  document.getElementById('f0433bc6-a6d7-435d-98dc-a67a5cd20905').appendChild(renderjson({'0': {'obj_type': 'tick', 'visible': {'s0': 'Player1', 's1': 'Player2'}, 'row': '0', 'col': '2', 'symbol': 'X', 'player': 'Player1'}, '1': {'obj_type': 'tick', 'visible': {'s0': 'Player1', 's1': 'Player2'}, 'row': '0', 'col': '1', 'symbol': 'O', 'player': 'Player2'}}))\n",
       "\t\t});\n",
       "\t\t"
      ]
     },
     "metadata": {},
     "output_type": "display_data"
    }
   ],
   "source": [
    "I.view_table()"
   ]
  },
  {
   "cell_type": "code",
   "execution_count": 8,
   "metadata": {},
   "outputs": [
    {
     "data": {
      "text/plain": [
       "odict_keys(['waiting_for', 'players', 'table'])"
      ]
     },
     "execution_count": 8,
     "metadata": {},
     "output_type": "execute_result"
    }
   ],
   "source": [
    "I.msg.keys()"
   ]
  },
  {
   "cell_type": "code",
   "execution_count": 1,
   "metadata": {},
   "outputs": [
    {
     "ename": "NameError",
     "evalue": "name 'I' is not defined",
     "output_type": "error",
     "traceback": [
      "\u001b[0;31m---------------------------------------------------------------------------\u001b[0m",
      "\u001b[0;31mNameError\u001b[0m                                 Traceback (most recent call last)",
      "\u001b[0;32m<ipython-input-1-7d486bd75591>\u001b[0m in \u001b[0;36m<module>\u001b[0;34m()\u001b[0m\n\u001b[0;32m----> 1\u001b[0;31m \u001b[0mtype\u001b[0m\u001b[0;34m(\u001b[0m\u001b[0mI\u001b[0m\u001b[0;34m.\u001b[0m\u001b[0mmsg\u001b[0m\u001b[0;34m.\u001b[0m\u001b[0mwaiting_for\u001b[0m\u001b[0;34m)\u001b[0m\u001b[0;34m\u001b[0m\u001b[0m\n\u001b[0m",
      "\u001b[0;31mNameError\u001b[0m: name 'I' is not defined"
     ]
    }
   ],
   "source": [
    "type(I.msg.waiting_for)"
   ]
  },
  {
   "cell_type": "code",
   "execution_count": 5,
   "metadata": {},
   "outputs": [
    {
     "data": {
      "text/plain": [
       "tdict([('actions',\n",
       "        {(tdict('val':0, 'type':'fixed'), tdict('val':0, 'type':'fixed')), (tdict('val':0, 'type':'fixed'), tdict('val':1, 'type':'fixed')), (tdict('val':0, 'type':'fixed'), tdict('val':2, 'type':'fixed')), (tdict('val':1, 'type':'fixed'), tdict('val':0, 'type':'fixed')), (tdict('val':1, 'type':'fixed'), tdict('val':1, 'type':'fixed')), (tdict('val':1, 'type':'fixed'), tdict('val':2, 'type':'fixed')), (tdict('val':2, 'type':'fixed'), tdict('val':0, 'type':'fixed')), (tdict('val':2, 'type':'fixed'), tdict('val':1, 'type':'fixed')), (tdict('val':2, 'type':'fixed'), tdict('val':2, 'type':'fixed'))}),\n",
       "       ('desc', [tdict('type':'str', 'val':'Coordinate options')])])"
      ]
     },
     "execution_count": 5,
     "metadata": {},
     "output_type": "execute_result"
    }
   ],
   "source": [
    "I.msg.options[0]"
   ]
  },
  {
   "cell_type": "code",
   "execution_count": 6,
   "metadata": {},
   "outputs": [
    {
     "data": {
      "text/plain": [
       "{(tdict('val':0, 'type':'fixed'), tdict('val':0, 'type':'fixed')), (tdict('val':0, 'type':'fixed'), tdict('val':1, 'type':'fixed')), (tdict('val':0, 'type':'fixed'), tdict('val':2, 'type':'fixed')), (tdict('val':1, 'type':'fixed'), tdict('val':0, 'type':'fixed')), (tdict('val':1, 'type':'fixed'), tdict('val':1, 'type':'fixed')), (tdict('val':1, 'type':'fixed'), tdict('val':2, 'type':'fixed')), (tdict('val':2, 'type':'fixed'), tdict('val':0, 'type':'fixed')), (tdict('val':2, 'type':'fixed'), tdict('val':1, 'type':'fixed')), (tdict('val':2, 'type':'fixed'), tdict('val':2, 'type':'fixed'))}"
      ]
     },
     "execution_count": 6,
     "metadata": {},
     "output_type": "execute_result"
    }
   ],
   "source": [
    "I.msg.options[0].actions"
   ]
  },
  {
   "cell_type": "code",
   "execution_count": 7,
   "metadata": {},
   "outputs": [
    {
     "data": {
      "text/plain": [
       "{(tdict('val':0, 'type':'fixed'), tdict('val':0, 'type':'fixed')), (tdict('val':0, 'type':'fixed'), tdict('val':1, 'type':'fixed')), (tdict('val':0, 'type':'fixed'), tdict('val':2, 'type':'fixed')), (tdict('val':1, 'type':'fixed'), tdict('val':0, 'type':'fixed')), (tdict('val':1, 'type':'fixed'), tdict('val':1, 'type':'fixed')), (tdict('val':1, 'type':'fixed'), tdict('val':2, 'type':'fixed')), (tdict('val':2, 'type':'fixed'), tdict('val':0, 'type':'fixed')), (tdict('val':2, 'type':'fixed'), tdict('val':1, 'type':'fixed')), (tdict('val':2, 'type':'fixed'), tdict('val':2, 'type':'fixed'))}"
      ]
     },
     "execution_count": 7,
     "metadata": {},
     "output_type": "execute_result"
    }
   ],
   "source": [
    "viz.decode_action_set(I.msg.options[0].actions)"
   ]
  },
  {
   "cell_type": "code",
   "execution_count": 9,
   "metadata": {
    "collapsed": true
   },
   "outputs": [],
   "source": [
    "msg = I.ctrl._step('Player1', (1,0), key=I.msg.key)"
   ]
  },
  {
   "cell_type": "code",
   "execution_count": 10,
   "metadata": {},
   "outputs": [
    {
     "data": {
      "text/plain": [
       "{'error': {'type': 'TypeError',\n",
       "  'msg': 'Traceback (most recent call last):\\n  File \"/mnt/c/Users/anwan/OneDrive - UW/Khan/Other/gsm/git/gsm/core/controller.py\", line 227, in _step\\n    action = self.active_players[player].verify(action)\\n  File \"/mnt/c/Users/anwan/OneDrive - UW/Khan/Other/gsm/git/gsm/core/actions.py\", line 163, in verify\\n    actionset = decode_action_set(option.actions)\\n  File \"/mnt/c/Users/anwan/OneDrive - UW/Khan/Other/gsm/git/gsm/core/actions.py\", line 30, in decode_action_set\\n    code = _expand_actions(code)\\n  File \"/mnt/c/Users/anwan/OneDrive - UW/Khan/Other/gsm/git/gsm/core/actions.py\", line 22, in _expand_actions\\n    return chain(*map(_expand_actions, code))\\n  File \"/mnt/c/Users/anwan/OneDrive - UW/Khan/Other/gsm/git/gsm/core/actions.py\", line 20, in _expand_actions\\n    return list(product(*map(_expand_actions, code)))\\nTypeError: \\'FixedAction\\' object is not iterable\\n'}}"
      ]
     },
     "execution_count": 10,
     "metadata": {},
     "output_type": "execute_result"
    }
   ],
   "source": [
    "msg"
   ]
  },
  {
   "cell_type": "code",
   "execution_count": 5,
   "metadata": {},
   "outputs": [
    {
     "data": {
      "text/plain": [
       "['Player2']"
      ]
     },
     "execution_count": 5,
     "metadata": {},
     "output_type": "execute_result"
    }
   ],
   "source": [
    "I.msg.waiting_for"
   ]
  },
  {
   "cell_type": "code",
   "execution_count": 6,
   "metadata": {},
   "outputs": [
    {
     "data": {
      "text/plain": [
       "tdict('map':array([[0, 0, 0],\n",
       "       [0, 0, 0],\n",
       "       [0, 0, 0]]), 'turn_counter':0, 'player_order':[tdict('val':-1, 'obj_type':'GamePlayer', 'name':'Player2', 'symbol':'O'), tdict('val':1, 'obj_type':'GamePlayer', 'name':'Player1', 'symbol':'X')])"
      ]
     },
     "execution_count": 6,
     "metadata": {},
     "output_type": "execute_result"
    }
   ],
   "source": [
    "I.ctrl.state"
   ]
  },
  {
   "cell_type": "code",
   "execution_count": 5,
   "metadata": {
    "collapsed": true
   },
   "outputs": [],
   "source": [
    "#list(C.__class__._subclasses.keys())"
   ]
  },
  {
   "cell_type": "code",
   "execution_count": 6,
   "metadata": {},
   "outputs": [
    {
     "data": {
      "text/plain": [
       "'[\"Player1\", \"Player2\"]'"
      ]
     },
     "execution_count": 6,
     "metadata": {},
     "output_type": "execute_result"
    }
   ],
   "source": [
    "players = C.get_players()\n",
    "players"
   ]
  },
  {
   "cell_type": "code",
   "execution_count": 9,
   "metadata": {
    "collapsed": true,
    "scrolled": true
   },
   "outputs": [],
   "source": [
    "out = C._reset(players[0])\n",
    "if 'error' in out:\n",
    "    print(out['error']['type'])\n",
    "    print(''.join(out['error']['msg']))"
   ]
  },
  {
   "cell_type": "code",
   "execution_count": 10,
   "metadata": {},
   "outputs": [
    {
     "data": {
      "text/plain": [
       "{'_data': {'phases': ['turn'],\n",
       "  'state': {'_order': ['state',\n",
       "    'log',\n",
       "    'table',\n",
       "    'active_players',\n",
       "    'phase_stack',\n",
       "    'players',\n",
       "    'in_progress',\n",
       "    'config_files',\n",
       "    'DEBUG',\n",
       "    'seed',\n",
       "    'end_info'],\n",
       "   '_pairs': {'DEBUG': False,\n",
       "    'active_players': {'_data': {'_order': ['Player1'],\n",
       "      '_pairs': {'Player1': {'_data': {'_order': ['options', 'status', 'info'],\n",
       "         '_pairs': {'info': {'_data': {'_order': [], '_pairs': {}},\n",
       "           '_type': 'tdict'},\n",
       "          'options': {'_data': [{'_data': {'_order': ['actions'],\n",
       "              '_pairs': {'actions': {'_data': [{'_entries': [{'_data': {'_order': ['obj_type',\n",
       "                      'val'],\n",
       "                     '_pairs': {'obj_type': 'int', 'val': 0}},\n",
       "                    '_type': 'FixedAction'},\n",
       "                   {'_data': {'_order': ['obj_type', 'val'],\n",
       "                     '_pairs': {'obj_type': 'int', 'val': 0}},\n",
       "                    '_type': 'FixedAction'}],\n",
       "                  '_type': 'tuple'},\n",
       "                 {'_entries': [{'_data': {'_order': ['obj_type', 'val'],\n",
       "                     '_pairs': {'obj_type': 'int', 'val': 0}},\n",
       "                    '_type': 'FixedAction'},\n",
       "                   {'_data': {'_order': ['obj_type', 'val'],\n",
       "                     '_pairs': {'obj_type': 'int', 'val': 1}},\n",
       "                    '_type': 'FixedAction'}],\n",
       "                  '_type': 'tuple'},\n",
       "                 {'_entries': [{'_data': {'_order': ['obj_type', 'val'],\n",
       "                     '_pairs': {'obj_type': 'int', 'val': 0}},\n",
       "                    '_type': 'FixedAction'},\n",
       "                   {'_data': {'_order': ['obj_type', 'val'],\n",
       "                     '_pairs': {'obj_type': 'int', 'val': 2}},\n",
       "                    '_type': 'FixedAction'}],\n",
       "                  '_type': 'tuple'},\n",
       "                 {'_entries': [{'_data': {'_order': ['obj_type', 'val'],\n",
       "                     '_pairs': {'obj_type': 'int', 'val': 1}},\n",
       "                    '_type': 'FixedAction'},\n",
       "                   {'_data': {'_order': ['obj_type', 'val'],\n",
       "                     '_pairs': {'obj_type': 'int', 'val': 0}},\n",
       "                    '_type': 'FixedAction'}],\n",
       "                  '_type': 'tuple'},\n",
       "                 {'_entries': [{'_data': {'_order': ['obj_type', 'val'],\n",
       "                     '_pairs': {'obj_type': 'int', 'val': 1}},\n",
       "                    '_type': 'FixedAction'},\n",
       "                   {'_data': {'_order': ['obj_type', 'val'],\n",
       "                     '_pairs': {'obj_type': 'int', 'val': 1}},\n",
       "                    '_type': 'FixedAction'}],\n",
       "                  '_type': 'tuple'},\n",
       "                 {'_entries': [{'_data': {'_order': ['obj_type', 'val'],\n",
       "                     '_pairs': {'obj_type': 'int', 'val': 1}},\n",
       "                    '_type': 'FixedAction'},\n",
       "                   {'_data': {'_order': ['obj_type', 'val'],\n",
       "                     '_pairs': {'obj_type': 'int', 'val': 2}},\n",
       "                    '_type': 'FixedAction'}],\n",
       "                  '_type': 'tuple'},\n",
       "                 {'_entries': [{'_data': {'_order': ['obj_type', 'val'],\n",
       "                     '_pairs': {'obj_type': 'int', 'val': 2}},\n",
       "                    '_type': 'FixedAction'},\n",
       "                   {'_data': {'_order': ['obj_type', 'val'],\n",
       "                     '_pairs': {'obj_type': 'int', 'val': 0}},\n",
       "                    '_type': 'FixedAction'}],\n",
       "                  '_type': 'tuple'},\n",
       "                 {'_entries': [{'_data': {'_order': ['obj_type', 'val'],\n",
       "                     '_pairs': {'obj_type': 'int', 'val': 2}},\n",
       "                    '_type': 'FixedAction'},\n",
       "                   {'_data': {'_order': ['obj_type', 'val'],\n",
       "                     '_pairs': {'obj_type': 'int', 'val': 1}},\n",
       "                    '_type': 'FixedAction'}],\n",
       "                  '_type': 'tuple'},\n",
       "                 {'_entries': [{'_data': {'_order': ['obj_type', 'val'],\n",
       "                     '_pairs': {'obj_type': 'int', 'val': 2}},\n",
       "                    '_type': 'FixedAction'},\n",
       "                   {'_data': {'_order': ['obj_type', 'val'],\n",
       "                     '_pairs': {'obj_type': 'int', 'val': 2}},\n",
       "                    '_type': 'FixedAction'}],\n",
       "                  '_type': 'tuple'}],\n",
       "                '_type': 'tset'}}},\n",
       "             '_type': 'tdict'}],\n",
       "           '_type': 'tlist'},\n",
       "          'status': 'Place a tick into one of these coords (row, col)'}},\n",
       "        '_type': 'GameActions'}}},\n",
       "     '_type': 'tdict'},\n",
       "    'config_files': {'_data': {'_order': ['basic'],\n",
       "      '_pairs': {'basic': 'config/basics.yaml'}},\n",
       "     '_type': 'tdict'},\n",
       "    'end_info': None,\n",
       "    'in_progress': True,\n",
       "    'log': {'_data': {'_order': ['logs',\n",
       "       'recent',\n",
       "       'collectors',\n",
       "       'debug',\n",
       "       'level'],\n",
       "      '_pairs': {'collectors': None,\n",
       "       'debug': False,\n",
       "       'level': 0,\n",
       "       'logs': {'_data': {'_order': ['Player1', 'Player2'],\n",
       "         '_pairs': {'Player1': {'_data': [], '_type': 'tlist'},\n",
       "          'Player2': {'_data': [], '_type': 'tlist'}}},\n",
       "        '_type': 'tdict'},\n",
       "       'recent': {'_data': {'_order': ['Player1', 'Player2'],\n",
       "         '_pairs': {'Player1': {'_data': [], '_type': 'tlist'},\n",
       "          'Player2': {'_data': [], '_type': 'tlist'}}},\n",
       "        '_type': 'tdict'}}},\n",
       "     '_type': 'GameLogger'},\n",
       "    'phase_stack': {'_data': [{'_data': {'_order': ['name'],\n",
       "        '_pairs': {'name': 'TurnPhase'}},\n",
       "       '_type': 'TurnPhase'}],\n",
       "     '_type': 'tlist'},\n",
       "    'players': {'_data': [{'_data': {'_order': ['val',\n",
       "         'obj_type',\n",
       "         'name',\n",
       "         'symbol'],\n",
       "        '_pairs': {'name': 'Player1',\n",
       "         'obj_type': 'Player',\n",
       "         'symbol': 'X',\n",
       "         'val': 1}},\n",
       "       '_type': 'Player'},\n",
       "      {'_data': {'_order': ['val', 'obj_type', 'name', 'symbol'],\n",
       "        '_pairs': {'name': 'Player2',\n",
       "         'obj_type': 'Player',\n",
       "         'symbol': 'O',\n",
       "         'val': -1}},\n",
       "       '_type': 'Player'}],\n",
       "     '_type': 'tlist'},\n",
       "    'seed': 13758478836430331178,\n",
       "    'state': {'_data': {'_order': ['map', 'turn_counter'],\n",
       "      '_pairs': {'map': {'_data': [[0, 0, 0], [0, 0, 0], [0, 0, 0]],\n",
       "        '_dtype': dtype('int64'),\n",
       "        '_type': 'numpy.ndarray'},\n",
       "       'turn_counter': 0}},\n",
       "     '_type': 'tdict'},\n",
       "    'table': {'_data': {'ID_counter': 0,\n",
       "      'obj_types': ['tick'],\n",
       "      'players': ['Player1', 'Player2'],\n",
       "      'table': {}},\n",
       "     '_type': 'GameTable'}}}},\n",
       " '_type': 'TicTacToe'}"
      ]
     },
     "execution_count": 10,
     "metadata": {},
     "output_type": "execute_result"
    }
   ],
   "source": [
    "state = pack_savable(C)\n",
    "state"
   ]
  },
  {
   "cell_type": "code",
   "execution_count": 12,
   "metadata": {
    "collapsed": true,
    "scrolled": true
   },
   "outputs": [],
   "source": [
    "N = TicTacToe()"
   ]
  },
  {
   "cell_type": "code",
   "execution_count": 13,
   "metadata": {
    "scrolled": true
   },
   "outputs": [
    {
     "ename": "MissingTypeError",
     "evalue": "Before loading GameTable you must register: tick",
     "output_type": "error",
     "traceback": [
      "\u001b[0;31m---------------------------------------------------------------------------\u001b[0m",
      "\u001b[0;31mMissingTypeError\u001b[0m                          Traceback (most recent call last)",
      "\u001b[0;32m<ipython-input-13-ef569025f495>\u001b[0m in \u001b[0;36m<module>\u001b[0;34m()\u001b[0m\n\u001b[0;32m----> 1\u001b[0;31m \u001b[0mN\u001b[0m\u001b[0;34m.\u001b[0m\u001b[0m__setstate__\u001b[0m\u001b[0;34m(\u001b[0m\u001b[0mC\u001b[0m\u001b[0;34m.\u001b[0m\u001b[0m__getstate__\u001b[0m\u001b[0;34m(\u001b[0m\u001b[0;34m)\u001b[0m\u001b[0;34m)\u001b[0m\u001b[0;34m\u001b[0m\u001b[0m\n\u001b[0m",
      "\u001b[0;32m/mnt/c/Users/anwan/OneDrive - UW Office 365/Khan/Other/gsm/git/gsm/core/controller.py\u001b[0m in \u001b[0;36m__setstate__\u001b[0;34m(self, state)\u001b[0m\n\u001b[1;32m    260\u001b[0m                                 \u001b[0;32mraise\u001b[0m \u001b[0mMissingType\u001b[0m\u001b[0;34m(\u001b[0m\u001b[0mself\u001b[0m\u001b[0;34m,\u001b[0m \u001b[0mname\u001b[0m\u001b[0;34m)\u001b[0m\u001b[0;34m\u001b[0m\u001b[0m\n\u001b[1;32m    261\u001b[0m \u001b[0;34m\u001b[0m\u001b[0m\n\u001b[0;32m--> 262\u001b[0;31m                 \u001b[0msuper\u001b[0m\u001b[0;34m(\u001b[0m\u001b[0;34m)\u001b[0m\u001b[0;34m.\u001b[0m\u001b[0m__setstate__\u001b[0m\u001b[0;34m(\u001b[0m\u001b[0mstate\u001b[0m\u001b[0;34m[\u001b[0m\u001b[0;34m'state'\u001b[0m\u001b[0;34m]\u001b[0m\u001b[0;34m)\u001b[0m\u001b[0;34m\u001b[0m\u001b[0m\n\u001b[0m\u001b[1;32m    263\u001b[0m \u001b[0;34m\u001b[0m\u001b[0m\n\u001b[1;32m    264\u001b[0m \u001b[0;34m\u001b[0m\u001b[0m\n",
      "\u001b[0;32m/mnt/c/Users/anwan/OneDrive - UW Office 365/Khan/Other/gsm/git/gsm/containers.py\u001b[0m in \u001b[0;36m__setstate__\u001b[0;34m(self, state)\u001b[0m\n\u001b[1;32m    179\u001b[0m                 \u001b[0mself\u001b[0m\u001b[0;34m.\u001b[0m\u001b[0m_data\u001b[0m\u001b[0;34m.\u001b[0m\u001b[0mclear\u001b[0m\u001b[0;34m(\u001b[0m\u001b[0;34m)\u001b[0m\u001b[0;34m\u001b[0m\u001b[0m\n\u001b[1;32m    180\u001b[0m                 \u001b[0;32mfor\u001b[0m \u001b[0mkey\u001b[0m \u001b[0;32min\u001b[0m \u001b[0mstate\u001b[0m\u001b[0;34m[\u001b[0m\u001b[0;34m'_order'\u001b[0m\u001b[0;34m]\u001b[0m\u001b[0;34m:\u001b[0m\u001b[0;34m\u001b[0m\u001b[0m\n\u001b[0;32m--> 181\u001b[0;31m                         \u001b[0mself\u001b[0m\u001b[0;34m.\u001b[0m\u001b[0m_data\u001b[0m\u001b[0;34m[\u001b[0m\u001b[0mkey\u001b[0m\u001b[0;34m]\u001b[0m \u001b[0;34m=\u001b[0m \u001b[0munpack_savable\u001b[0m\u001b[0;34m(\u001b[0m\u001b[0mstate\u001b[0m\u001b[0;34m[\u001b[0m\u001b[0;34m'_pairs'\u001b[0m\u001b[0;34m]\u001b[0m\u001b[0;34m[\u001b[0m\u001b[0mkey\u001b[0m\u001b[0;34m]\u001b[0m\u001b[0;34m)\u001b[0m\u001b[0;34m\u001b[0m\u001b[0m\n\u001b[0m\u001b[1;32m    182\u001b[0m \u001b[0;34m\u001b[0m\u001b[0m\n\u001b[1;32m    183\u001b[0m         \u001b[0;32mdef\u001b[0m \u001b[0mget\u001b[0m\u001b[0;34m(\u001b[0m\u001b[0mself\u001b[0m\u001b[0;34m,\u001b[0m \u001b[0mk\u001b[0m\u001b[0;34m)\u001b[0m\u001b[0;34m:\u001b[0m\u001b[0;34m\u001b[0m\u001b[0m\n",
      "\u001b[0;32m/mnt/c/Users/anwan/OneDrive - UW Office 365/Khan/Other/gsm/git/gsm/containers.py\u001b[0m in \u001b[0;36munpack_savable\u001b[0;34m(data, init_fn)\u001b[0m\n\u001b[1;32m     68\u001b[0m                         \u001b[0;32mraise\u001b[0m \u001b[0mLoadInitFailureError\u001b[0m\u001b[0;34m(\u001b[0m\u001b[0mdata\u001b[0m\u001b[0;34m[\u001b[0m\u001b[0;34m'_type'\u001b[0m\u001b[0;34m]\u001b[0m\u001b[0;34m)\u001b[0m\u001b[0;34m\u001b[0m\u001b[0m\n\u001b[1;32m     69\u001b[0m \u001b[0;34m\u001b[0m\u001b[0m\n\u001b[0;32m---> 70\u001b[0;31m                 \u001b[0mobj\u001b[0m\u001b[0;34m.\u001b[0m\u001b[0m__setstate__\u001b[0m\u001b[0;34m(\u001b[0m\u001b[0mdata\u001b[0m\u001b[0;34m[\u001b[0m\u001b[0;34m'_data'\u001b[0m\u001b[0;34m]\u001b[0m\u001b[0;34m)\u001b[0m\u001b[0;34m\u001b[0m\u001b[0m\n\u001b[0m\u001b[1;32m     71\u001b[0m                 \u001b[0;32mreturn\u001b[0m \u001b[0mobj\u001b[0m\u001b[0;34m\u001b[0m\u001b[0m\n\u001b[1;32m     72\u001b[0m \u001b[0;34m\u001b[0m\u001b[0m\n",
      "\u001b[0;32m/mnt/c/Users/anwan/OneDrive - UW Office 365/Khan/Other/gsm/git/gsm/core/table.py\u001b[0m in \u001b[0;36m__setstate__\u001b[0;34m(self, state)\u001b[0m\n\u001b[1;32m    141\u001b[0m                 \u001b[0;32mfor\u001b[0m \u001b[0mobj_type\u001b[0m \u001b[0;32min\u001b[0m \u001b[0mstate\u001b[0m\u001b[0;34m[\u001b[0m\u001b[0;34m'obj_types'\u001b[0m\u001b[0;34m]\u001b[0m\u001b[0;34m:\u001b[0m\u001b[0;34m\u001b[0m\u001b[0m\n\u001b[1;32m    142\u001b[0m                         \u001b[0;32mif\u001b[0m \u001b[0mobj_type\u001b[0m \u001b[0;32mnot\u001b[0m \u001b[0;32min\u001b[0m \u001b[0mself\u001b[0m\u001b[0;34m.\u001b[0m\u001b[0mobj_types\u001b[0m\u001b[0;34m:\u001b[0m\u001b[0;34m\u001b[0m\u001b[0m\n\u001b[0;32m--> 143\u001b[0;31m                                 \u001b[0;32mraise\u001b[0m \u001b[0mMissingTypeError\u001b[0m\u001b[0;34m(\u001b[0m\u001b[0mself\u001b[0m\u001b[0;34m,\u001b[0m \u001b[0mobj_type\u001b[0m\u001b[0;34m)\u001b[0m\u001b[0;34m\u001b[0m\u001b[0m\n\u001b[0m\u001b[1;32m    144\u001b[0m \u001b[0;34m\u001b[0m\u001b[0m\n\u001b[1;32m    145\u001b[0m                 \u001b[0mself\u001b[0m\u001b[0;34m.\u001b[0m\u001b[0mreset\u001b[0m\u001b[0;34m(\u001b[0m\u001b[0mstate\u001b[0m\u001b[0;34m[\u001b[0m\u001b[0;34m'players'\u001b[0m\u001b[0;34m]\u001b[0m\u001b[0;34m)\u001b[0m\u001b[0;34m\u001b[0m\u001b[0m\n",
      "\u001b[0;31mMissingTypeError\u001b[0m: Before loading GameTable you must register: tick"
     ]
    }
   ],
   "source": [
    "N.__setstate__(C.__getstate__())"
   ]
  },
  {
   "cell_type": "code",
   "execution_count": null,
   "metadata": {
    "collapsed": true
   },
   "outputs": [],
   "source": []
  }
 ],
 "metadata": {
  "kernelspec": {
   "display_name": "Python 3",
   "language": "python",
   "name": "python3"
  },
  "language_info": {
   "codemirror_mode": {
    "name": "ipython",
    "version": 3
   },
   "file_extension": ".py",
   "mimetype": "text/x-python",
   "name": "python",
   "nbconvert_exporter": "python",
   "pygments_lexer": "ipython3",
   "version": "3.6.4"
  }
 },
 "nbformat": 4,
 "nbformat_minor": 2
}
