{
 "cells": [
  {
   "cell_type": "code",
   "execution_count": 1,
   "metadata": {},
   "outputs": [],
   "source": [
    "import sys, os, time\n",
    "%load_ext autoreload\n",
    "%autoreload 2\n",
    "%matplotlib inline\n",
    "#%matplotlib tk\n",
    "import numpy as np\n",
    "import matplotlib.pyplot as plt\n",
    "from collections import namedtuple, OrderedDict\n",
    "import random\n",
    "from string import Formatter\n",
    "from itertools import chain, product\n",
    "import json\n",
    "import gsm\n",
    "from gsm import tdict, tlist, tset\n",
    "from gsm import Savable\n",
    "from gsm import util\n",
    "from gsm import viz\n",
    "from gsm.viz import Ipython_Interface as Interface\n",
    "from tictactoe_grid.main import TicTacToe, Tick"
   ]
  },
  {
   "cell_type": "code",
   "execution_count": 2,
   "metadata": {
    "scrolled": true
   },
   "outputs": [
    {
     "name": "stdout",
     "output_type": "stream",
     "text": [
      "Player set to Player1\n"
     ]
    }
   ],
   "source": [
    "seed = 1\n",
    "I = Interface(TicTacToe(), seed=seed, full_log=True)\n",
    "I.set_player('Player1')"
   ]
  },
  {
   "cell_type": "code",
   "execution_count": 3,
   "metadata": {},
   "outputs": [
    {
     "name": "stdout",
     "output_type": "stream",
     "text": [
      "Received key: 0x91b7584a2265b1f5\n",
      "Received table: 10 entries\n",
      "-------------\n",
      "Log\n",
      "-------------\n",
      "\n",
      "Phase: tic\n",
      "+-------------------------------------+\n",
      "| Place a tick into one of free spots |\n",
      "+-------------------------------------+\n",
      "-- Available spots --\n",
      "   0 - OBJ[0]:(1,1)\n",
      "   1 - OBJ[1]:(1,2)\n",
      "   2 - OBJ[2]:(1,3)\n",
      "   3 - OBJ[3]:(2,1)\n",
      "   4 - OBJ[4]:(2,2)\n",
      "   5 - OBJ[5]:(2,3)\n",
      "   6 - OBJ[6]:(3,1)\n",
      "   7 - OBJ[7]:(3,2)\n",
      "   8 - OBJ[8]:(3,3)\n"
     ]
    }
   ],
   "source": [
    "# I.load('saves/tttgrid.pkl')\n",
    "I.reset(seed=seed)\n",
    "I.view()"
   ]
  },
  {
   "cell_type": "code",
   "execution_count": 4,
   "metadata": {},
   "outputs": [],
   "source": [
    "I.get_status()"
   ]
  },
  {
   "cell_type": "code",
   "execution_count": 5,
   "metadata": {},
   "outputs": [
    {
     "name": "stdout",
     "output_type": "stream",
     "text": [
      "Selected action 2: OBJ[2]:(1,3)\n",
      "Player set to Player2\n",
      "Received key: 0xcd613e30d8f16adf\n",
      "Received table: 10 entries\n",
      "-------------\n",
      "Log\n",
      "-------------\n",
      "PLYR:Player1 chooses OBJ[2]:(1,3)\n",
      "\n",
      "Phase: tic\n",
      "+-------------------------------------+\n",
      "| Place a tick into one of free spots |\n",
      "+-------------------------------------+\n",
      "-- Available spots --\n",
      "   0 - OBJ[0]:(1,1)\n",
      "   1 - OBJ[1]:(1,2)\n",
      "   2 - OBJ[3]:(2,1)\n",
      "   3 - OBJ[4]:(2,2)\n",
      "   4 - OBJ[5]:(2,3)\n",
      "   5 - OBJ[6]:(3,1)\n",
      "   6 - OBJ[7]:(3,2)\n",
      "   7 - OBJ[8]:(3,3)\n"
     ]
    }
   ],
   "source": [
    "I.select_action()\n",
    "I.step()\n",
    "I.set_player()\n",
    "I.get_status()\n",
    "I.view()"
   ]
  },
  {
   "cell_type": "code",
   "execution_count": 13,
   "metadata": {},
   "outputs": [
    {
     "name": "stdout",
     "output_type": "stream",
     "text": [
      "key: 0.7887233511355132\n"
     ]
    }
   ],
   "source": [
    "I.load('saves/tttgrid.pkl')"
   ]
  },
  {
   "cell_type": "code",
   "execution_count": 7,
   "metadata": {},
   "outputs": [
    {
     "data": {
      "text/plain": [
       "0.49543508709194095"
      ]
     },
     "execution_count": 7,
     "metadata": {},
     "output_type": "execute_result"
    }
   ],
   "source": [
    "I.ctrl.RNG.random()"
   ]
  },
  {
   "cell_type": "code",
   "execution_count": 12,
   "metadata": {},
   "outputs": [
    {
     "name": "stdout",
     "output_type": "stream",
     "text": [
      "key: 0.7887233511355132\n"
     ]
    }
   ],
   "source": [
    "I.save('saves/tttgrid.pkl')"
   ]
  },
  {
   "cell_type": "code",
   "execution_count": 7,
   "metadata": {
    "scrolled": true
   },
   "outputs": [
    {
     "data": {
      "text/plain": [
       "25748"
      ]
     },
     "execution_count": 7,
     "metadata": {},
     "output_type": "execute_result"
    }
   ],
   "source": [
    "data = I.save()\n",
    "len(data)"
   ]
  },
  {
   "cell_type": "code",
   "execution_count": 12,
   "metadata": {
    "collapsed": true,
    "scrolled": true
   },
   "outputs": [],
   "source": [
    "I.load(data)"
   ]
  },
  {
   "cell_type": "code",
   "execution_count": 13,
   "metadata": {},
   "outputs": [
    {
     "name": "stdout",
     "output_type": "stream",
     "text": [
      "Received key: 0x78e510617311d8a3\n",
      "Received table: 10 entries\n",
      "-------------\n",
      "Log\n",
      "-------------\n",
      "PLYR:Player1 chooses OBJ[2]:(1,3)\n",
      "PLYR:Player2 chooses OBJ[1]:(1,2)\n",
      "PLYR:Player1 chooses OBJ[4]:(2,2)\n",
      "PLYR:Player2 chooses OBJ[0]:(1,1)\n",
      "PLYR:Player1 chooses OBJ[7]:(3,2)\n",
      "\n",
      "+-------------------------------------+\n",
      "| Place a tick into one of free spots |\n",
      "+-------------------------------------+\n",
      "-- Available spots --\n",
      "   0 - ('OBJ[3]:(2,1)',)\n",
      "   1 - ('OBJ[5]:(2,3)',)\n",
      "   2 - ('OBJ[6]:(3,1)',)\n",
      "   3 - ('OBJ[8]:(3,3)',)\n"
     ]
    }
   ],
   "source": [
    "I.get_status()\n",
    "I.view()"
   ]
  },
  {
   "cell_type": "code",
   "execution_count": 18,
   "metadata": {},
   "outputs": [
    {
     "name": "stdout",
     "output_type": "stream",
     "text": [
      "No actions to select\n",
      "No game in progress\n",
      "Player set to Player1\n",
      "Received table: 10 entries\n",
      "-------------\n",
      "Log\n",
      "-------------\n",
      "PLYR:Player1 chooses OBJ[2]:(1,3)\n",
      "PLYR:Player2 chooses OBJ[1]:(1,2)\n",
      "PLYR:Player1 chooses OBJ[4]:(2,2)\n",
      "PLYR:Player2 chooses OBJ[0]:(1,1)\n",
      "PLYR:Player1 chooses OBJ[7]:(3,2)\n",
      "PLYR:Player2 chooses OBJ[8]:(3,3)\n",
      "PLYR:Player1 chooses OBJ[5]:(2,3)\n",
      "PLYR:Player2 chooses OBJ[6]:(3,1)\n",
      "PLYR:Player1 chooses OBJ[3]:(2,1)\n",
      "Game Over! Player1 wins!\n",
      "\n",
      "--- Game Ended ---\n"
     ]
    }
   ],
   "source": [
    "I.select_action()\n",
    "I.step()\n",
    "I.set_player()\n",
    "I.get_status()\n",
    "I.view()"
   ]
  },
  {
   "cell_type": "code",
   "execution_count": null,
   "metadata": {
    "collapsed": true
   },
   "outputs": [],
   "source": []
  }
 ],
 "metadata": {
  "kernelspec": {
   "display_name": "Python 3",
   "language": "python",
   "name": "python3"
  },
  "language_info": {
   "codemirror_mode": {
    "name": "ipython",
    "version": 3
   },
   "file_extension": ".py",
   "mimetype": "text/x-python",
   "name": "python",
   "nbconvert_exporter": "python",
   "pygments_lexer": "ipython3",
   "version": "3.7.4"
  }
 },
 "nbformat": 4,
 "nbformat_minor": 2
}
