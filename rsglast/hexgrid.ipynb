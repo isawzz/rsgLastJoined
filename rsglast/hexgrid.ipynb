{
 "cells": [
  {
   "cell_type": "code",
   "execution_count": 1,
   "metadata": {},
   "outputs": [],
   "source": [
    "import sys, os, time\n",
    "%load_ext autoreload\n",
    "%autoreload 2\n",
    "%matplotlib inline\n",
    "#%matplotlib tk\n",
    "import matplotlib.pyplot as plt\n",
    "from collections import namedtuple, OrderedDict\n",
    "import random\n",
    "from itertools import chain, product\n",
    "# from gsm import tdict, tlist, tset\n",
    "# from gsm.containers import Container\n",
    "# from gsm.structures.transactions import TransactionableObject"
   ]
  },
  {
   "cell_type": "code",
   "execution_count": 3,
   "metadata": {},
   "outputs": [],
   "source": [
    "class Element(object):\n",
    "    def __init__(self, ID):\n",
    "        self.ID = ID\n",
    "    def __eq__(self, other):\n",
    "        return self.ID == other.ID\n",
    "    def __hash__(self):\n",
    "        return hash(self.ID)\n",
    "    def __str__(self):\n",
    "        return '{}'.format(self.ID)\n",
    "    def __repr__(self):\n",
    "        return str(self)\n",
    "    \n",
    "class Field(Element):\n",
    "    def __init__(self, ID):\n",
    "        super().__init__(ID)\n",
    "        self.NE = None\n",
    "        self.E = None\n",
    "        self.SE = None\n",
    "        self.SW = None\n",
    "        self.W = None\n",
    "        self.NW = None\n",
    "        self.fields = set()\n",
    "    def __str__(self):\n",
    "        return 'F{}'.format(self.ID)\n",
    "    \n",
    "class Edge(Element):\n",
    "    def __init__(self, ID):\n",
    "        super().__init__(ID)\n",
    "        \n",
    "        self.edges = set()\n",
    "        \n",
    "        self.L = None\n",
    "        self.R = None\n",
    "        self.fields = set()\n",
    "        \n",
    "    def __str__(self):\n",
    "        return 'E{}'.format(self.ID)\n",
    "    \n",
    "class Corner(Element):\n",
    "    def __init__(self, ID):\n",
    "        super().__init__(ID)\n",
    "        \n",
    "        self.A = None\n",
    "        self.B = None\n",
    "        self.C = None\n",
    "        \n",
    "        self.corners = set()\n",
    "        \n",
    "    def __str__(self):\n",
    "        return 'C{}'.format(self.ID)"
   ]
  },
  {
   "cell_type": "code",
   "execution_count": 5,
   "metadata": {},
   "outputs": [],
   "source": [
    "_id = 0"
   ]
  },
  {
   "cell_type": "code",
   "execution_count": 17,
   "metadata": {},
   "outputs": [],
   "source": [
    "level = 3"
   ]
  },
  {
   "cell_type": "code",
   "execution_count": 19,
   "metadata": {},
   "outputs": [],
   "source": [
    "order = ['SE', 'SW', 'W', 'NW', 'SE', 'NE', 'E']\n",
    "ms = order * 2"
   ]
  },
  {
   "cell_type": "code",
   "execution_count": null,
   "metadata": {},
   "outputs": [],
   "source": []
  },
  {
   "cell_type": "code",
   "execution_count": 18,
   "metadata": {},
   "outputs": [
    {
     "data": {
      "text/plain": [
       "('NE',\n",
       " 'SE',\n",
       " 'SE',\n",
       " 'SW',\n",
       " 'SW',\n",
       " 'W',\n",
       " 'W',\n",
       " 'NW',\n",
       " 'NW',\n",
       " 'SE',\n",
       " 'SE',\n",
       " 'NE',\n",
       " 'NE',\n",
       " 'E')"
      ]
     },
     "execution_count": 18,
     "metadata": {},
     "output_type": "execute_result"
    }
   ],
   "source": [
    "('NE',) + ('SE',)*(level-1) + ('SW',)*(level-1) + ('W',)*(level-1) + ('NW',)*(level-1) + ('SE',)*(level-1) + ('NE',)*(level-1) + ('E',)*(level-2)"
   ]
  },
  {
   "cell_type": "code",
   "execution_count": null,
   "metadata": {},
   "outputs": [],
   "source": []
  },
  {
   "cell_type": "code",
   "execution_count": null,
   "metadata": {},
   "outputs": [],
   "source": []
  },
  {
   "cell_type": "code",
   "execution_count": null,
   "metadata": {},
   "outputs": [],
   "source": []
  },
  {
   "cell_type": "code",
   "execution_count": null,
   "metadata": {},
   "outputs": [],
   "source": []
  },
  {
   "cell_type": "code",
   "execution_count": 20,
   "metadata": {},
   "outputs": [],
   "source": [
    "catan_neighborhood = [\n",
    "    # 1\n",
    "    [2,3,4,5,6,7],\n",
    "    [8,9,3,1,7,19],\n",
    "    [9,10,11,4,1,2],\n",
    "    [3,11,12,13,5,1],\n",
    "    [1,4,13,14,15,6],\n",
    "    \n",
    "    # 6\n",
    "    [7,1,5,15,16,17],\n",
    "    [19,2,1,6,17,18,19],\n",
    "    [0,0,9,2,19,0],\n",
    "    [0,0,10,3,2,8],\n",
    "    [0,0,0,11,3,9],\n",
    "    \n",
    "    # 11\n",
    "    [10,0,0,12,4,3],\n",
    "    [11,0,0,0,13,4],\n",
    "    [4,12,0,0,14,5],\n",
    "    [5,13,0,0,0,15],\n",
    "    [6,5,14,0,0,16],\n",
    "    \n",
    "    # 16\n",
    "    [17,6,15,0,0,0],\n",
    "    [18,7,6,16,0,0],\n",
    "    [0,19,7,17,0,0],\n",
    "    [0,8,2,7,18,0],\n",
    "    \n",
    "]"
   ]
  },
  {
   "cell_type": "code",
   "execution_count": null,
   "metadata": {},
   "outputs": [],
   "source": [
    "\n",
    "fields = {}\n",
    "\n",
    "order = ['NE', 'E', 'SE', 'SW', 'W', 'NW']\n",
    "\n",
    "for i, nn in enumerate(catan_neighborhood):\n",
    "    \n",
    "    if i+1 in fields:\n",
    "        f = fields[i+1]\n",
    "    else:\n",
    "        f = Field(i+1)\n",
    "        fields[i+1] = f\n",
    "    \n",
    "    for o, n in zip(order, nn):\n",
    "        if n > 0:\n",
    "            if n in fields:\n",
    "                other = fields[n]\n",
    "            f.__dict__[o] ="
   ]
  },
  {
   "cell_type": "code",
   "execution_count": null,
   "metadata": {},
   "outputs": [],
   "source": []
  },
  {
   "cell_type": "code",
   "execution_count": null,
   "metadata": {},
   "outputs": [],
   "source": []
  },
  {
   "cell_type": "code",
   "execution_count": null,
   "metadata": {},
   "outputs": [],
   "source": []
  },
  {
   "cell_type": "code",
   "execution_count": null,
   "metadata": {},
   "outputs": [],
   "source": []
  },
  {
   "cell_type": "code",
   "execution_count": null,
   "metadata": {},
   "outputs": [],
   "source": []
  },
  {
   "cell_type": "code",
   "execution_count": null,
   "metadata": {},
   "outputs": [],
   "source": [
    "def rad3_hex_grid():\n",
    "    \n",
    "    \n",
    "    "
   ]
  },
  {
   "cell_type": "code",
   "execution_count": null,
   "metadata": {},
   "outputs": [],
   "source": []
  },
  {
   "cell_type": "code",
   "execution_count": null,
   "metadata": {},
   "outputs": [],
   "source": [
    "\n",
    "def hex_circle(radius, edges=False, corners=False):\n",
    "    \n",
    "    assert radius > 0\n",
    "    \n",
    "    assert not edges and not corners\n",
    "    \n",
    "    \n",
    "    \n",
    "    \n",
    "def _grow_hex_circle(home, level):\n",
    "    \n",
    "    "
   ]
  }
 ],
 "metadata": {
  "kernelspec": {
   "display_name": "Python 3",
   "language": "python",
   "name": "python3"
  },
  "language_info": {
   "codemirror_mode": {
    "name": "ipython",
    "version": 3
   },
   "file_extension": ".py",
   "mimetype": "text/x-python",
   "name": "python",
   "nbconvert_exporter": "python",
   "pygments_lexer": "ipython3",
   "version": "3.7.2"
  }
 },
 "nbformat": 4,
 "nbformat_minor": 2
}
